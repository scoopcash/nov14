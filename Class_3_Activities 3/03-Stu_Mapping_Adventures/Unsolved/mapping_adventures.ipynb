{
 "cells": [
  {
   "cell_type": "markdown",
   "metadata": {},
   "source": [
    "# Mapping Adventures"
   ]
  },
  {
   "cell_type": "markdown",
   "metadata": {},
   "source": [
    "It's time to take a break from your day job and plan an adventure!\n",
    "\n",
    "Use **hvPlot** and the **GeoViews** to create a series of geographical plots that will visualize each area of interest within the city."
   ]
  },
  {
   "cell_type": "markdown",
   "metadata": {},
   "source": [
    "## Import the required libraries and dependencies"
   ]
  },
  {
   "cell_type": "code",
   "execution_count": 8,
   "metadata": {},
   "outputs": [],
   "source": [
    "import pandas as pd\n",
    "import os\n",
    "from pathlib import Path\n",
    "import hvplot.pandas\n",
    "import geoviews"
   ]
  },
  {
   "cell_type": "markdown",
   "metadata": {},
   "source": [
    "### Step 1: Read in the `nyc_places_interest.csv` file from the Resources folder into a Pandas DataFrame. Drop any rows that contain missing data or NaN values."
   ]
  },
  {
   "cell_type": "code",
   "execution_count": 9,
   "metadata": {},
   "outputs": [
    {
     "data": {
      "text/html": [
       "<div>\n",
       "<style scoped>\n",
       "    .dataframe tbody tr th:only-of-type {\n",
       "        vertical-align: middle;\n",
       "    }\n",
       "\n",
       "    .dataframe tbody tr th {\n",
       "        vertical-align: top;\n",
       "    }\n",
       "\n",
       "    .dataframe thead th {\n",
       "        text-align: right;\n",
       "    }\n",
       "</style>\n",
       "<table border=\"1\" class=\"dataframe\">\n",
       "  <thead>\n",
       "    <tr style=\"text-align: right;\">\n",
       "      <th></th>\n",
       "      <th>Id</th>\n",
       "      <th>Longitude</th>\n",
       "      <th>Latitude</th>\n",
       "      <th>Name</th>\n",
       "      <th>PlaceType</th>\n",
       "      <th>Borough</th>\n",
       "    </tr>\n",
       "  </thead>\n",
       "  <tbody>\n",
       "    <tr>\n",
       "      <th>0</th>\n",
       "      <td>90</td>\n",
       "      <td>-73.888958</td>\n",
       "      <td>40.896210</td>\n",
       "      <td>Van Cortlandt Park</td>\n",
       "      <td>Park</td>\n",
       "      <td>Bronx</td>\n",
       "    </tr>\n",
       "    <tr>\n",
       "      <th>1</th>\n",
       "      <td>95</td>\n",
       "      <td>-73.871651</td>\n",
       "      <td>40.889879</td>\n",
       "      <td>Woodlawn Cemetery</td>\n",
       "      <td>Cemetery</td>\n",
       "      <td>Bronx</td>\n",
       "    </tr>\n",
       "    <tr>\n",
       "      <th>2</th>\n",
       "      <td>81</td>\n",
       "      <td>-73.838642</td>\n",
       "      <td>40.886965</td>\n",
       "      <td>Seton Falls Park</td>\n",
       "      <td>Park</td>\n",
       "      <td>Bronx</td>\n",
       "    </tr>\n",
       "    <tr>\n",
       "      <th>3</th>\n",
       "      <td>69</td>\n",
       "      <td>-73.809802</td>\n",
       "      <td>40.877986</td>\n",
       "      <td>Pelham Bay Park</td>\n",
       "      <td>Park</td>\n",
       "      <td>Bronx</td>\n",
       "    </tr>\n",
       "    <tr>\n",
       "      <th>4</th>\n",
       "      <td>8</td>\n",
       "      <td>-73.878308</td>\n",
       "      <td>40.864424</td>\n",
       "      <td>Botanical Garden</td>\n",
       "      <td>Garden</td>\n",
       "      <td>Bronx</td>\n",
       "    </tr>\n",
       "  </tbody>\n",
       "</table>\n",
       "</div>"
      ],
      "text/plain": [
       "   Id  Longitude   Latitude                Name PlaceType Borough\n",
       "0  90 -73.888958  40.896210  Van Cortlandt Park      Park   Bronx\n",
       "1  95 -73.871651  40.889879   Woodlawn Cemetery  Cemetery   Bronx\n",
       "2  81 -73.838642  40.886965    Seton Falls Park      Park   Bronx\n",
       "3  69 -73.809802  40.877986     Pelham Bay Park      Park   Bronx\n",
       "4   8 -73.878308  40.864424    Botanical Garden    Garden   Bronx"
      ]
     },
     "execution_count": 9,
     "metadata": {},
     "output_type": "execute_result"
    }
   ],
   "source": [
    "# Read the the ny_places_interest.csv file into a DataFrame\n",
    "places_of_interest = pd.read_csv(Path('../Resources/nyc_places_interest.csv'))\n",
    "\n",
    "# Review the DataFrame\n",
    "places_of_interest.head()"
   ]
  },
  {
   "cell_type": "markdown",
   "metadata": {},
   "source": [
    "## Plot the NYC Places of Interest"
   ]
  },
  {
   "cell_type": "markdown",
   "metadata": {},
   "source": [
    "### Step 2: Plot All Places of Interest by Name"
   ]
  },
  {
   "cell_type": "code",
   "execution_count": 10,
   "metadata": {},
   "outputs": [
    {
     "name": "stderr",
     "output_type": "stream",
     "text": [
      "/Users/a2600/opt/anaconda3/envs/dev/lib/python3.7/site-packages/cartopy/crs.py:245: ShapelyDeprecationWarning: __len__ for multi-part geometries is deprecated and will be removed in Shapely 2.0. Check the length of the `geoms` property instead to get the  number of parts of a multi-part geometry.\n",
      "  if len(multi_line_string) > 1:\n",
      "/Users/a2600/opt/anaconda3/envs/dev/lib/python3.7/site-packages/cartopy/crs.py:297: ShapelyDeprecationWarning: Iteration over multi-part geometries is deprecated and will be removed in Shapely 2.0. Use the `geoms` property to access the constituent parts of a multi-part geometry.\n",
      "  for line in multi_line_string:\n",
      "/Users/a2600/opt/anaconda3/envs/dev/lib/python3.7/site-packages/cartopy/crs.py:364: ShapelyDeprecationWarning: __len__ for multi-part geometries is deprecated and will be removed in Shapely 2.0. Check the length of the `geoms` property instead to get the  number of parts of a multi-part geometry.\n",
      "  if len(p_mline) > 0:\n",
      "/Users/a2600/opt/anaconda3/envs/dev/lib/python3.7/site-packages/cartopy/crs.py:245: ShapelyDeprecationWarning: __len__ for multi-part geometries is deprecated and will be removed in Shapely 2.0. Check the length of the `geoms` property instead to get the  number of parts of a multi-part geometry.\n",
      "  if len(multi_line_string) > 1:\n",
      "/Users/a2600/opt/anaconda3/envs/dev/lib/python3.7/site-packages/cartopy/crs.py:297: ShapelyDeprecationWarning: Iteration over multi-part geometries is deprecated and will be removed in Shapely 2.0. Use the `geoms` property to access the constituent parts of a multi-part geometry.\n",
      "  for line in multi_line_string:\n",
      "/Users/a2600/opt/anaconda3/envs/dev/lib/python3.7/site-packages/cartopy/crs.py:364: ShapelyDeprecationWarning: __len__ for multi-part geometries is deprecated and will be removed in Shapely 2.0. Check the length of the `geoms` property instead to get the  number of parts of a multi-part geometry.\n",
      "  if len(p_mline) > 0:\n",
      "/Users/a2600/opt/anaconda3/envs/dev/lib/python3.7/site-packages/cartopy/crs.py:245: ShapelyDeprecationWarning: __len__ for multi-part geometries is deprecated and will be removed in Shapely 2.0. Check the length of the `geoms` property instead to get the  number of parts of a multi-part geometry.\n",
      "  if len(multi_line_string) > 1:\n",
      "/Users/a2600/opt/anaconda3/envs/dev/lib/python3.7/site-packages/cartopy/crs.py:297: ShapelyDeprecationWarning: Iteration over multi-part geometries is deprecated and will be removed in Shapely 2.0. Use the `geoms` property to access the constituent parts of a multi-part geometry.\n",
      "  for line in multi_line_string:\n",
      "/Users/a2600/opt/anaconda3/envs/dev/lib/python3.7/site-packages/cartopy/crs.py:364: ShapelyDeprecationWarning: __len__ for multi-part geometries is deprecated and will be removed in Shapely 2.0. Check the length of the `geoms` property instead to get the  number of parts of a multi-part geometry.\n",
      "  if len(p_mline) > 0:\n"
     ]
    },
    {
     "data": {},
     "metadata": {},
     "output_type": "display_data"
    },
    {
     "data": {
      "application/vnd.holoviews_exec.v0+json": "",
      "text/html": [
       "<div id='1408'>\n",
       "  <div class=\"bk-root\" id=\"4d3ad831-3ad8-4362-9787-147664084cd7\" data-root-id=\"1408\"></div>\n",
       "</div>\n",
       "<script type=\"application/javascript\">(function(root) {\n",
       "  function embed_document(root) {\n",
       "    var docs_json = {\"82a634e0-679d-4a74-8e2b-9f8040dfb281\":{\"defs\":[{\"extends\":null,\"module\":null,\"name\":\"ReactiveHTML1\",\"overrides\":[],\"properties\":[]},{\"extends\":null,\"module\":null,\"name\":\"FlexBox1\",\"overrides\":[],\"properties\":[{\"default\":\"flex-start\",\"kind\":null,\"name\":\"align_content\"},{\"default\":\"flex-start\",\"kind\":null,\"name\":\"align_items\"},{\"default\":\"row\",\"kind\":null,\"name\":\"flex_direction\"},{\"default\":\"wrap\",\"kind\":null,\"name\":\"flex_wrap\"},{\"default\":\"flex-start\",\"kind\":null,\"name\":\"justify_content\"}]},{\"extends\":null,\"module\":null,\"name\":\"GridStack1\",\"overrides\":[],\"properties\":[{\"default\":\"warn\",\"kind\":null,\"name\":\"mode\"},{\"default\":null,\"kind\":null,\"name\":\"ncols\"},{\"default\":null,\"kind\":null,\"name\":\"nrows\"},{\"default\":true,\"kind\":null,\"name\":\"allow_resize\"},{\"default\":true,\"kind\":null,\"name\":\"allow_drag\"},{\"default\":[],\"kind\":null,\"name\":\"state\"}]},{\"extends\":null,\"module\":null,\"name\":\"click1\",\"overrides\":[],\"properties\":[{\"default\":\"\",\"kind\":null,\"name\":\"terminal_output\"},{\"default\":\"\",\"kind\":null,\"name\":\"debug_name\"},{\"default\":0,\"kind\":null,\"name\":\"clears\"}]},{\"extends\":null,\"module\":null,\"name\":\"NotificationAreaBase1\",\"overrides\":[],\"properties\":[{\"default\":\"bottom-right\",\"kind\":null,\"name\":\"position\"},{\"default\":0,\"kind\":null,\"name\":\"_clear\"}]},{\"extends\":null,\"module\":null,\"name\":\"NotificationArea1\",\"overrides\":[],\"properties\":[{\"default\":[],\"kind\":null,\"name\":\"notifications\"},{\"default\":\"bottom-right\",\"kind\":null,\"name\":\"position\"},{\"default\":0,\"kind\":null,\"name\":\"_clear\"},{\"default\":[{\"background\":\"#ffc107\",\"icon\":{\"className\":\"fas fa-exclamation-triangle\",\"color\":\"white\",\"tagName\":\"i\"},\"type\":\"warning\"},{\"background\":\"#007bff\",\"icon\":{\"className\":\"fas fa-info-circle\",\"color\":\"white\",\"tagName\":\"i\"},\"type\":\"info\"}],\"kind\":null,\"name\":\"types\"}]},{\"extends\":null,\"module\":null,\"name\":\"Notification\",\"overrides\":[],\"properties\":[{\"default\":null,\"kind\":null,\"name\":\"background\"},{\"default\":3000,\"kind\":null,\"name\":\"duration\"},{\"default\":null,\"kind\":null,\"name\":\"icon\"},{\"default\":\"\",\"kind\":null,\"name\":\"message\"},{\"default\":null,\"kind\":null,\"name\":\"notification_type\"},{\"default\":false,\"kind\":null,\"name\":\"_destroyed\"}]},{\"extends\":null,\"module\":null,\"name\":\"TemplateActions1\",\"overrides\":[],\"properties\":[{\"default\":0,\"kind\":null,\"name\":\"open_modal\"},{\"default\":0,\"kind\":null,\"name\":\"close_modal\"}]},{\"extends\":null,\"module\":null,\"name\":\"MaterialTemplateActions1\",\"overrides\":[],\"properties\":[{\"default\":0,\"kind\":null,\"name\":\"open_modal\"},{\"default\":0,\"kind\":null,\"name\":\"close_modal\"}]}],\"roots\":{\"references\":[{\"attributes\":{\"factors\":[\"Van Cortlandt Park\",\"Woodlawn Cemetery\",\"Seton Falls Park\",\"Pelham Bay Park\",\"Botanical Garden\",\"Bronx Park\",\"Saint  Raymond's Cemetery\",\"Ferry Point Park\",\"Sound View Park\",\"Crotona Park\",\"Zoo/Wildlife Conser. Park\",\"Hart Island\",\"Saint Mary's Park\",\"Inwood Hill Park\",\"Fort Tryon Park\",\"Rikers Island\",\"Marcus Garvey Park\",\"Randall's Island Park\",\"Ward's Island Park\",\"Central Park\",\"Columbus Circle\",\"Times Square\",\"Madison Square\",\"Union Square\",\"Governors Island\",\"McCarren Park\",\"Astoria Park\",\"Botanic Garden\",\"Prospect Park\",\"Greenwood Cemetery\",\"Holy Cross Cemetery\",\"Bush Terminal\",\"Owls Head Park\",\"Fort Hamilton\",\"Dyker Beach Park\",\"Washington Cemetery\",\"Marine Park\",\"Floyd Bennett Field\",\"Canarsie Beach Park\",\"Aqueduct Race Track\",\"Bayside Cemetery\",\"Brookville Park\",\"Baisley Pond Park\",\"Roy Wilkins Park\",\"Forest Park\",\"Cypress Hills Cemetery\",\"Saint  Johns Cemetery\",\"Linden Hill Cemetery\",\"Mount Olivet Cemetery\",\"Juniper Valley Park\",\"Lutheran Cemetery\",\"Montefiore Cemetery\",\"Flushing Meadows Corona Park\",\"Mount Hebron Cemetery\",\"Kissena Park\",\"Cunningham Park\",\"Fort Totten\",\"Clearview Park\",\"Crocheron Park\",\"Alley Pond Park\",\"Douglaston Park\",\"Fort Schuyler\",\"Calvary Cemetery\",\"New Calvary Cemetery\",\"Mount Zion Cemetery\",\"Jacob Riis Park\",\"Fort Tilden\",\"Liberty Island\",\"Ellis Island\",\"Snug Harbor\",\"Silver Lake Park\",\"Clove Lakes Park\",\"Fort Wadsworth\",\"Miller Field\",\"Great Kills Park\",\"Moravian Cemetery\",\"LaTourette Park\",\"Willowbrook Park\",\"Blue Heron Park\",\"Wolfe's Pond Park\",\"Mount Loretto\",\"Conference House Park\",\"South Shore Golf Course\",\"Fresh Kills\",\"Plumb Beach\",\"John F. Kennedy International Airport\",\"LaGuardia Airport\",\"Jamaica Bay Wildlife Refuge\",\"Calvert Vaux\",\"High Rock Park\",\"Red Hook Park\",\"Saint Michael's Cemetery\",\"Riverdale Park\",\"Forest Park Golf Course\",\"Spring Creek Park Preserve No Access\",\"Spring Creek Park Gateway National Recreation Area\"],\"palette\":[\"#1f77b3\",\"#ff7e0e\",\"#2ba02b\",\"#d62628\",\"#9367bc\",\"#8c564b\",\"#e277c1\",\"#7e7e7e\",\"#bcbc21\",\"#16bdcf\",\"#3a0182\",\"#004201\",\"#0fffa8\",\"#5d003f\",\"#bcbcff\",\"#d8afa1\",\"#b80080\",\"#004d52\",\"#6b6400\",\"#7c0100\",\"#6026ff\",\"#ffff9a\",\"#564964\",\"#8cb893\",\"#93fbff\",\"#018267\",\"#90ff00\",\"#8200a0\",\"#ac8944\",\"#5b3400\",\"#ffbff2\",\"#ff6e75\",\"#798cff\",\"#dd00ff\",\"#505646\",\"#004489\",\"#ffbf60\",\"#ff018c\",\"#bdc8cf\",\"#af97b5\",\"#b65600\",\"#017000\",\"#cd87ff\",\"#1cd646\",\"#bfebc3\",\"#7997b5\",\"#a56089\",\"#6e8956\",\"#bc7c75\",\"#8a2844\",\"#00acff\",\"#8ed4ff\",\"#4b6d77\",\"#00d4b1\",\"#9300f2\",\"#8a9500\",\"#5d5b9e\",\"#fddfba\",\"#00939e\",\"#ffdb00\",\"#00aa79\",\"#520067\",\"#000091\",\"#0a5d3d\",\"#a5e275\",\"#623b41\",\"#c6c689\",\"#ff9eb5\",\"#cd4f6b\",\"#ff07d6\",\"#8a3a05\",\"#7e3d70\",\"#ff4901\",\"#602ba5\",\"#1c00ff\",\"#e6dfff\",\"#aa3baf\",\"#d89c00\",\"#a3a39e\",\"#3f69ff\",\"#46490c\",\"#7b6985\",\"#6b978c\",\"#ff9a75\",\"#835bff\",\"#7c6b46\",\"#80b654\",\"#bc0049\",\"#fd93ff\",\"#5d0018\",\"#89d1d1\",\"#9c8cd3\",\"#da6d42\",\"#8a5700\",\"#3b5069\",\"#4b6b3b\"]},\"id\":\"1484\",\"type\":\"CategoricalColorMapper\"},{\"attributes\":{\"axis\":{\"id\":\"1434\"},\"coordinates\":null,\"dimension\":1,\"grid_line_color\":null,\"group\":null,\"ticker\":null},\"id\":\"1437\",\"type\":\"Grid\"},{\"attributes\":{\"callback\":null,\"formatters\":{\"$x\":{\"id\":\"1503\"},\"$y\":{\"id\":\"1504\"}},\"renderers\":[{\"id\":\"1493\"}],\"tags\":[\"hv_created\"],\"tooltips\":[[\"Longitude\",\"$x{custom}\"],[\"Latitude\",\"$y{custom}\"],[\"Name\",\"@{Name}\"]]},\"id\":\"1418\",\"type\":\"HoverTool\"},{\"attributes\":{\"code\":\"\\n        var projections = Bokeh.require(\\\"core/util/projections\\\");\\n        var x = special_vars.data_x\\n        var y = special_vars.data_y\\n        if (projections.wgs84_mercator.invert == null) {\\n          var coords = projections.wgs84_mercator.inverse([x, y])\\n        } else {\\n          var coords = projections.wgs84_mercator.invert(x, y)\\n        }\\n        return \\\"\\\" + (coords[1]).toFixed(4)\\n    \"},\"id\":\"1504\",\"type\":\"CustomJSHover\"},{\"attributes\":{\"fill_alpha\":{\"value\":0.8},\"fill_color\":{\"field\":\"color\",\"transform\":{\"id\":\"1484\"}},\"hatch_alpha\":{\"value\":0.1},\"hatch_color\":{\"field\":\"color\",\"transform\":{\"id\":\"1484\"}},\"line_alpha\":{\"value\":0.8},\"line_color\":{\"field\":\"color\",\"transform\":{\"id\":\"1484\"}},\"size\":{\"value\":5.477225575051661},\"x\":{\"field\":\"Longitude\"},\"y\":{\"field\":\"Latitude\"}},\"id\":\"1489\",\"type\":\"Scatter\"},{\"attributes\":{\"fill_alpha\":{\"value\":0.2},\"fill_color\":{\"field\":\"color\",\"transform\":{\"id\":\"1484\"}},\"hatch_alpha\":{\"value\":0.2},\"hatch_color\":{\"field\":\"color\",\"transform\":{\"id\":\"1484\"}},\"line_alpha\":{\"value\":0.2},\"line_color\":{\"field\":\"color\",\"transform\":{\"id\":\"1484\"}},\"size\":{\"value\":5.477225575051661},\"x\":{\"field\":\"Longitude\"},\"y\":{\"field\":\"Latitude\"}},\"id\":\"1492\",\"type\":\"Scatter\"},{\"attributes\":{\"axis_label\":\"y\",\"coordinates\":null,\"formatter\":{\"id\":\"1456\"},\"group\":null,\"major_label_policy\":{\"id\":\"1466\"},\"ticker\":{\"id\":\"1455\"}},\"id\":\"1434\",\"type\":\"LinearAxis\"},{\"attributes\":{\"fill_alpha\":{\"value\":0.8},\"fill_color\":{\"field\":\"color\",\"transform\":{\"id\":\"1484\"}},\"hatch_alpha\":{\"value\":0.8},\"hatch_color\":{\"field\":\"color\",\"transform\":{\"id\":\"1484\"}},\"line_alpha\":{\"value\":0.8},\"line_color\":{\"field\":\"color\",\"transform\":{\"id\":\"1484\"}},\"size\":{\"value\":5.477225575051661},\"x\":{\"field\":\"Longitude\"},\"y\":{\"field\":\"Latitude\"}},\"id\":\"1490\",\"type\":\"Scatter\"},{\"attributes\":{\"margin\":[5,5,5,5],\"name\":\"HSpacer01902\",\"sizing_mode\":\"stretch_width\"},\"id\":\"1409\",\"type\":\"Spacer\"},{\"attributes\":{\"coordinates\":null,\"group\":null,\"level\":\"glyph\",\"tile_source\":{\"id\":\"1479\"}},\"id\":\"1482\",\"type\":\"TileRenderer\"},{\"attributes\":{\"end\":5002868.404392054,\"min_interval\":5,\"reset_end\":5002868.404392054,\"reset_start\":4932981.895163525,\"start\":4932981.895163525,\"tags\":[[[\"Latitude\",\"Latitude\",null]]]},\"id\":\"1415\",\"type\":\"Range1d\"},{\"attributes\":{\"tools\":[{\"id\":\"1418\"},{\"id\":\"1438\"},{\"id\":\"1439\"},{\"id\":\"1440\"},{\"id\":\"1441\"},{\"id\":\"1442\"}]},\"id\":\"1444\",\"type\":\"Toolbar\"},{\"attributes\":{\"attribution\":\"&copy; <a href=\\\"https://www.openstreetmap.org/copyright\\\">OpenStreetMap</a> contributors\",\"url\":\"https://c.tile.openstreetmap.org/{Z}/{X}/{Y}.png\"},\"id\":\"1479\",\"type\":\"WMTSTileSource\"},{\"attributes\":{\"fill_alpha\":{\"value\":0.8},\"fill_color\":{\"field\":\"color\",\"transform\":{\"id\":\"1484\"}},\"hatch_alpha\":{\"value\":0.8},\"hatch_color\":{\"field\":\"color\",\"transform\":{\"id\":\"1484\"}},\"line_alpha\":{\"value\":0.8},\"line_color\":{\"field\":\"color\",\"transform\":{\"id\":\"1484\"}},\"size\":{\"value\":5.477225575051661},\"x\":{\"field\":\"Longitude\"},\"y\":{\"field\":\"Latitude\"}},\"id\":\"1491\",\"type\":\"Scatter\"},{\"attributes\":{\"children\":[{\"id\":\"1409\"},{\"id\":\"1421\"},{\"id\":\"1511\"}],\"margin\":[0,0,0,0],\"name\":\"Row01898\",\"tags\":[\"embedded\"]},\"id\":\"1408\",\"type\":\"Row\"},{\"attributes\":{},\"id\":\"1459\",\"type\":\"AllLabels\"},{\"attributes\":{\"coordinates\":null,\"data_source\":{\"id\":\"1485\"},\"glyph\":{\"id\":\"1488\"},\"group\":null,\"hover_glyph\":{\"id\":\"1491\"},\"muted_glyph\":{\"id\":\"1492\"},\"nonselection_glyph\":{\"id\":\"1489\"},\"selection_glyph\":{\"id\":\"1490\"},\"view\":{\"id\":\"1494\"}},\"id\":\"1493\",\"type\":\"GlyphRenderer\"},{\"attributes\":{\"dimension\":\"lat\"},\"id\":\"1456\",\"type\":\"MercatorTickFormatter\"},{\"attributes\":{},\"id\":\"1438\",\"type\":\"SaveTool\"},{\"attributes\":{\"fill_alpha\":{\"value\":0.8},\"fill_color\":{\"field\":\"color\",\"transform\":{\"id\":\"1484\"}},\"hatch_alpha\":{\"value\":0.8},\"hatch_color\":{\"field\":\"color\",\"transform\":{\"id\":\"1484\"}},\"line_alpha\":{\"value\":0.8},\"line_color\":{\"field\":\"color\",\"transform\":{\"id\":\"1484\"}},\"size\":{\"value\":5.477225575051661},\"x\":{\"field\":\"Longitude\"},\"y\":{\"field\":\"Latitude\"}},\"id\":\"1488\",\"type\":\"Scatter\"},{\"attributes\":{\"axis\":{\"id\":\"1430\"},\"coordinates\":null,\"grid_line_color\":null,\"group\":null,\"ticker\":null},\"id\":\"1433\",\"type\":\"Grid\"},{\"attributes\":{},\"id\":\"1439\",\"type\":\"PanTool\"},{\"attributes\":{},\"id\":\"1426\",\"type\":\"LinearScale\"},{\"attributes\":{\"zoom_on_axis\":false},\"id\":\"1440\",\"type\":\"WheelZoomTool\"},{\"attributes\":{\"end\":-8187655.96828672,\"min_interval\":5,\"reset_end\":-8187655.96828672,\"reset_start\":-8285497.081206661,\"start\":-8285497.081206661,\"tags\":[[[\"Longitude\",\"Longitude\",null]]]},\"id\":\"1414\",\"type\":\"Range1d\"},{\"attributes\":{\"click_policy\":\"mute\",\"coordinates\":null,\"group\":null,\"items\":[{\"id\":\"1502\"}],\"location\":[0,0]},\"id\":\"1501\",\"type\":\"Legend\"},{\"attributes\":{},\"id\":\"1466\",\"type\":\"AllLabels\"},{\"attributes\":{\"match_aspect\":true,\"overlay\":{\"id\":\"1443\"}},\"id\":\"1441\",\"type\":\"BoxZoomTool\"},{\"attributes\":{\"data\":{\"Latitude\":{\"__ndarray__\":\"1cxBK+0PU0EFkxUdBA9TQcERDNWYDlNBXEPLS04NU0Fk/NYvWwtTQWcWH6ATClNBg3QWn3IFU0Gw21nzKARTQfHw925RBFNBHT83h6AHU0HEPWjhIwlTQU5VGKx6CVNBIQmrgr8DU0FUgp4ceQxTQdaHhXImC1NBVR+zxfIAU0E2n8zEmAJTQWY2bGSDAVNBNgXi4df/UkFG10dTpP9SQRYytaaD/VJBzRE1xxL8UkE3tSfizPlSQZpHk1zo+FJBpiJdeTvyUkFyx/lLv/ZSQRIB5IfE/lJBPJgPq3DvUkEGDhf6Me5SQWCzB1bg7FJB4fjBHSLsUkHbdt/IT+1SQQOrS/ck61JB+hezdHrmUkGlbd0gEOdSQQ15ZjdR6FJB/Rk/I+flUkFBoIoDLeRSQRrpizkS6VJBtCupfsPvUkFIEKZefvBSQfOrjj/b7FJBzBzON+rvUkFrxoU9BPJSQaedhvlD9FJBNC8wVifzUkF8uaSy7PVSQUFakBRB9VJBkJXlI732UkG5rCM5q/ZSQQheUTKB9VJBSfFpQrjxUkGNe8lDM/lSQXVLmcqj+FJB+AQR/iT6UkF2Wbv56fdSQfPcn04HAVNBRyKYmJn/UkGK0c35+/1SQRgb0XNy+1JB2jwSeij7UkG8Hlou6QJTQdc20LOJ+FJBPUxXNBH5UkErzkwSWfhSQespz+/S4FJBBMYy6+3fUkHNCCTvUPJSQUlrjmyi81JBABEW5XrrUkEwHls8VOlSQbR1qMkD6FJB4w0CngzmUkGN3Nkx2OBSQaYAgPMK3lJBtTMravLiUkFC4KPq3eJSQbBwHZ+C5VJB5WLTYpXbUkGMYLAQOdpSQWez2Ah/2FJBK3H4Zw3XUkFgPElCb95SQaYL8y214VJBo0XGBQTjUkFpaLheTuxSQYqKYu+R/lJBTmCtk7LoUkH4MYvrSONSQX2nd1IN5FJBrgdEGb7vUkHWHNvv/vxSQa60sW1dD1NBZylGtKvzUkEv0DQ6/OtSQRiBvh8O7FJB\",\"dtype\":\"float64\",\"order\":\"little\",\"shape\":[96]},\"Longitude\":{\"__ndarray__\":\"MMxcTIBgX8Gg8uiknl5fwZEnBwEIW1/BhZa9Z+VXX8GuyW7mV19fwc1/1e0eX1/BJUQxHKtaX8G1PV23ZlpfwTbGXiytXl/Bkhwb/xJhX8GtiwZ1Al9fwUos9vOKU1/BfFpV0vpiX8EONZozjGRfwalqsXArZV/B9ePZ39NfX8EfPlliV2ZfwV6DY3wPZF/B9xEPw/VkX8Flx03K1mhfwYW4t+qaal/BbRQ255dqX8G03bp5RmtfwUDg7NuGa1/BW8o2WZJuX8E8ovo5WmdfwY368P5WZF/ByFS+1uNoX8HCEcpDNmlfwRgcX4+Ia1/B30+0VstlX8Fwpf6Jl25fwXmkv7gVcF/BWqK21rNvX8G9Le31sm5fwfIHQtvmaV/BvroF6FFkX8EipVn0n2BfwaOD+/F+YV/BcpOS2ihaX8GvmzoLz1xfwSK8dmynUV/BGVO3emhVX8EetycLylNfwb4ogozQW1/B8z2YnhtfX8HQkxTQHF5fwQLDWFk4Y1/BujBU0UJhX8ELwEPCfF9fwe1JNEpXYF/BUWbDAH9QX8GYd68vVVtfwfzQ5ucgWl/BJ/abxEZXX8FOW3y5dlNfwS+hwJ5VVF/B4HXbr55VX8G3jQDWdVNfwYgvybHFUF/BHpUQKXhPX8EBS5QgFVZfwVlFaE/6ZF/BDGWLeyFjX8F/wrTKj2JfwTgK3MacXl/BHp8JrCVhX8HEVozHfnFfwRO1BpvwcF/BiUXayMl3X8E+96Fg23ZfwR+hPlGbeF/BPOLHfPdyX8Fg6vj9UHdfwcisvyk6el/BCwpgoFR5X8HwGwNxEHxfwWNVeo/GfV/Bw5t0q6J/X8FgB3jcfYFfwXz+ZUVHhF/BIlEaGpiHX8GFY0y53IJfwRntScDEgV/Br3P7bVhjX8HIC5n1TlVfwZcJWtXnXl/B6QdxObBZX8EDahsf42tfwQmJh8wQeV/B8qGHHC1tX8E63SQRiWFfwR7Zw/GHY1/BQmKV7KVdX8Emb1oW5l1fwWuBNv+iW1/B\",\"dtype\":\"float64\",\"order\":\"little\",\"shape\":[96]},\"Name\":[\"Van Cortlandt Park\",\"Woodlawn Cemetery\",\"Seton Falls Park\",\"Pelham Bay Park\",\"Botanical Garden\",\"Bronx Park\",\"Saint  Raymond's Cemetery\",\"Ferry Point Park\",\"Sound View Park\",\"Crotona Park\",\"Zoo/Wildlife Conser. Park\",\"Hart Island\",\"Saint Mary's Park\",\"Inwood Hill Park\",\"Fort Tryon Park\",\"Rikers Island\",\"Marcus Garvey Park\",\"Randall's Island Park\",\"Ward's Island Park\",\"Central Park\",\"Columbus Circle\",\"Times Square\",\"Madison Square\",\"Union Square\",\"Governors Island\",\"McCarren Park\",\"Astoria Park\",\"Botanic Garden\",\"Prospect Park\",\"Greenwood Cemetery\",\"Holy Cross Cemetery\",\"Bush Terminal\",\"Owls Head Park\",\"Fort Hamilton\",\"Dyker Beach Park\",\"Washington Cemetery\",\"Marine Park\",\"Floyd Bennett Field\",\"Canarsie Beach Park\",\"Aqueduct Race Track\",\"Bayside Cemetery\",\"Brookville Park\",\"Baisley Pond Park\",\"Roy Wilkins Park\",\"Forest Park\",\"Cypress Hills Cemetery\",\"Saint  Johns Cemetery\",\"Linden Hill Cemetery\",\"Mount Olivet Cemetery\",\"Juniper Valley Park\",\"Lutheran Cemetery\",\"Montefiore Cemetery\",\"Flushing Meadows Corona Park\",\"Mount Hebron Cemetery\",\"Kissena Park\",\"Cunningham Park\",\"Fort Totten\",\"Clearview Park\",\"Crocheron Park\",\"Alley Pond Park\",\"Douglaston Park\",\"Fort Schuyler\",\"Calvary Cemetery\",\"New Calvary Cemetery\",\"Mount Zion Cemetery\",\"Jacob Riis Park\",\"Fort Tilden\",\"Liberty Island\",\"Ellis Island\",\"Snug Harbor\",\"Silver Lake Park\",\"Clove Lakes Park\",\"Fort Wadsworth\",\"Miller Field\",\"Great Kills Park\",\"Moravian Cemetery\",\"LaTourette Park\",\"Willowbrook Park\",\"Blue Heron Park\",\"Wolfe's Pond Park\",\"Mount Loretto\",\"Conference House Park\",\"South Shore Golf Course\",\"Fresh Kills\",\"Plumb Beach\",\"John F. Kennedy International Airport\",\"LaGuardia Airport\",\"Jamaica Bay Wildlife Refuge\",\"Calvert Vaux\",\"High Rock Park\",\"Red Hook Park\",\"Saint Michael's Cemetery\",\"Riverdale Park\",\"Forest Park Golf Course\",\"Spring Creek Park Preserve No Access\",\"Spring Creek Park Gateway National Recreation Area\"],\"color\":[\"Van Cortlandt Park\",\"Woodlawn Cemetery\",\"Seton Falls Park\",\"Pelham Bay Park\",\"Botanical Garden\",\"Bronx Park\",\"Saint  Raymond's Cemetery\",\"Ferry Point Park\",\"Sound View Park\",\"Crotona Park\",\"Zoo/Wildlife Conser. Park\",\"Hart Island\",\"Saint Mary's Park\",\"Inwood Hill Park\",\"Fort Tryon Park\",\"Rikers Island\",\"Marcus Garvey Park\",\"Randall's Island Park\",\"Ward's Island Park\",\"Central Park\",\"Columbus Circle\",\"Times Square\",\"Madison Square\",\"Union Square\",\"Governors Island\",\"McCarren Park\",\"Astoria Park\",\"Botanic Garden\",\"Prospect Park\",\"Greenwood Cemetery\",\"Holy Cross Cemetery\",\"Bush Terminal\",\"Owls Head Park\",\"Fort Hamilton\",\"Dyker Beach Park\",\"Washington Cemetery\",\"Marine Park\",\"Floyd Bennett Field\",\"Canarsie Beach Park\",\"Aqueduct Race Track\",\"Bayside Cemetery\",\"Brookville Park\",\"Baisley Pond Park\",\"Roy Wilkins Park\",\"Forest Park\",\"Cypress Hills Cemetery\",\"Saint  Johns Cemetery\",\"Linden Hill Cemetery\",\"Mount Olivet Cemetery\",\"Juniper Valley Park\",\"Lutheran Cemetery\",\"Montefiore Cemetery\",\"Flushing Meadows Corona Park\",\"Mount Hebron Cemetery\",\"Kissena Park\",\"Cunningham Park\",\"Fort Totten\",\"Clearview Park\",\"Crocheron Park\",\"Alley Pond Park\",\"Douglaston Park\",\"Fort Schuyler\",\"Calvary Cemetery\",\"New Calvary Cemetery\",\"Mount Zion Cemetery\",\"Jacob Riis Park\",\"Fort Tilden\",\"Liberty Island\",\"Ellis Island\",\"Snug Harbor\",\"Silver Lake Park\",\"Clove Lakes Park\",\"Fort Wadsworth\",\"Miller Field\",\"Great Kills Park\",\"Moravian Cemetery\",\"LaTourette Park\",\"Willowbrook Park\",\"Blue Heron Park\",\"Wolfe's Pond Park\",\"Mount Loretto\",\"Conference House Park\",\"South Shore Golf Course\",\"Fresh Kills\",\"Plumb Beach\",\"John F. Kennedy International Airport\",\"LaGuardia Airport\",\"Jamaica Bay Wildlife Refuge\",\"Calvert Vaux\",\"High Rock Park\",\"Red Hook Park\",\"Saint Michael's Cemetery\",\"Riverdale Park\",\"Forest Park Golf Course\",\"Spring Creek Park Preserve No Access\",\"Spring Creek Park Gateway National Recreation Area\"]},\"selected\":{\"id\":\"1486\"},\"selection_policy\":{\"id\":\"1498\"}},\"id\":\"1485\",\"type\":\"ColumnDataSource\"},{\"attributes\":{\"coordinates\":null,\"group\":null,\"text_color\":\"black\",\"text_font_size\":\"12pt\"},\"id\":\"1422\",\"type\":\"Title\"},{\"attributes\":{\"below\":[{\"id\":\"1430\"}],\"center\":[{\"id\":\"1433\"},{\"id\":\"1437\"}],\"frame_height\":500,\"frame_width\":700,\"height\":null,\"left\":[{\"id\":\"1434\"}],\"margin\":[5,5,5,5],\"match_aspect\":true,\"min_border_bottom\":10,\"min_border_left\":10,\"min_border_right\":10,\"min_border_top\":10,\"renderers\":[{\"id\":\"1482\"},{\"id\":\"1493\"}],\"right\":[{\"id\":\"1501\"}],\"sizing_mode\":\"fixed\",\"title\":{\"id\":\"1422\"},\"toolbar\":{\"id\":\"1444\"},\"width\":null,\"x_range\":{\"id\":\"1414\"},\"x_scale\":{\"id\":\"1426\"},\"y_range\":{\"id\":\"1415\"},\"y_scale\":{\"id\":\"1428\"}},\"id\":\"1421\",\"subtype\":\"Figure\",\"type\":\"Plot\"},{\"attributes\":{\"margin\":[5,5,5,5],\"name\":\"HSpacer01903\",\"sizing_mode\":\"stretch_width\"},\"id\":\"1511\",\"type\":\"Spacer\"},{\"attributes\":{},\"id\":\"1442\",\"type\":\"ResetTool\"},{\"attributes\":{\"dimension\":\"lon\"},\"id\":\"1454\",\"type\":\"MercatorTickFormatter\"},{\"attributes\":{},\"id\":\"1486\",\"type\":\"Selection\"},{\"attributes\":{\"source\":{\"id\":\"1485\"}},\"id\":\"1494\",\"type\":\"CDSView\"},{\"attributes\":{\"dimension\":\"lon\"},\"id\":\"1453\",\"type\":\"MercatorTicker\"},{\"attributes\":{},\"id\":\"1498\",\"type\":\"UnionRenderers\"},{\"attributes\":{\"label\":{\"field\":\"color\"},\"renderers\":[{\"id\":\"1493\"}]},\"id\":\"1502\",\"type\":\"LegendItem\"},{\"attributes\":{\"bottom_units\":\"screen\",\"coordinates\":null,\"fill_alpha\":0.5,\"fill_color\":\"lightgrey\",\"group\":null,\"left_units\":\"screen\",\"level\":\"overlay\",\"line_alpha\":1.0,\"line_color\":\"black\",\"line_dash\":[4,4],\"line_width\":2,\"right_units\":\"screen\",\"syncable\":false,\"top_units\":\"screen\"},\"id\":\"1443\",\"type\":\"BoxAnnotation\"},{\"attributes\":{},\"id\":\"1428\",\"type\":\"LinearScale\"},{\"attributes\":{\"code\":\"\\n        var projections = Bokeh.require(\\\"core/util/projections\\\");\\n        var x = special_vars.data_x\\n        var y = special_vars.data_y\\n        if (projections.wgs84_mercator.invert == null) {\\n          var coords = projections.wgs84_mercator.inverse([x, y])\\n        } else {\\n          var coords = projections.wgs84_mercator.invert(x, y)\\n        }\\n        return \\\"\\\" + (coords[0]).toFixed(4)\\n    \"},\"id\":\"1503\",\"type\":\"CustomJSHover\"},{\"attributes\":{\"axis_label\":\"x\",\"coordinates\":null,\"formatter\":{\"id\":\"1454\"},\"group\":null,\"major_label_policy\":{\"id\":\"1459\"},\"ticker\":{\"id\":\"1453\"}},\"id\":\"1430\",\"type\":\"LinearAxis\"},{\"attributes\":{\"dimension\":\"lat\"},\"id\":\"1455\",\"type\":\"MercatorTicker\"}],\"root_ids\":[\"1408\"]},\"title\":\"Bokeh Application\",\"version\":\"2.4.3\"}};\n",
       "    var render_items = [{\"docid\":\"82a634e0-679d-4a74-8e2b-9f8040dfb281\",\"root_ids\":[\"1408\"],\"roots\":{\"1408\":\"4d3ad831-3ad8-4362-9787-147664084cd7\"}}];\n",
       "    root.Bokeh.embed.embed_items_notebook(docs_json, render_items);\n",
       "  }\n",
       "  if (root.Bokeh !== undefined && root.Bokeh.Panel !== undefined) {\n",
       "    embed_document(root);\n",
       "  } else {\n",
       "    var attempts = 0;\n",
       "    var timer = setInterval(function(root) {\n",
       "      if (root.Bokeh !== undefined && root.Bokeh.Panel !== undefined) {\n",
       "        clearInterval(timer);\n",
       "        embed_document(root);\n",
       "      } else if (document.readyState == \"complete\") {\n",
       "        attempts++;\n",
       "        if (attempts > 200) {\n",
       "          clearInterval(timer);\n",
       "          console.log(\"Bokeh: ERROR: Unable to run BokehJS code because BokehJS library is missing\");\n",
       "        }\n",
       "      }\n",
       "    }, 25, root)\n",
       "  }\n",
       "})(window);</script>"
      ],
      "text/plain": [
       ":Overlay\n",
       "   .Tiles.I  :Tiles   [x,y]\n",
       "   .Points.I :Points   [Longitude,Latitude]   (Name)"
      ]
     },
     "execution_count": 10,
     "metadata": {
      "application/vnd.holoviews_exec.v0+json": {
       "id": "1408"
      }
     },
     "output_type": "execute_result"
    }
   ],
   "source": [
    "# Plot all of the NYC places of interest\n",
    "# Set the color parameter to Name\n",
    "# Set alpha to 0.8\n",
    "# Set tiles to 'OSM'\n",
    "# Set frame_width = 700\n",
    "# Set frame_height = 500\n",
    "places_of_interest_by_name = places_of_interest.hvplot.points(\n",
    "    'Longitude',\n",
    "    'Latitude',\n",
    "    geo=True,\n",
    "    color= 'Name',\n",
    "    alpha=0.8,\n",
    "    tiles=\"OSM\",\n",
    "    frame_width=700,\n",
    "    frame_height=500\n",
    "    )\n",
    "\n",
    "# Show the plot\n",
    "places_of_interest_by_name"
   ]
  },
  {
   "cell_type": "markdown",
   "metadata": {},
   "source": [
    "### Step 3: Plot All Places of Interest by Place Type"
   ]
  },
  {
   "cell_type": "code",
   "execution_count": 15,
   "metadata": {},
   "outputs": [
    {
     "name": "stderr",
     "output_type": "stream",
     "text": [
      "/Users/a2600/opt/anaconda3/envs/dev/lib/python3.7/site-packages/cartopy/crs.py:245: ShapelyDeprecationWarning: __len__ for multi-part geometries is deprecated and will be removed in Shapely 2.0. Check the length of the `geoms` property instead to get the  number of parts of a multi-part geometry.\n",
      "  if len(multi_line_string) > 1:\n",
      "/Users/a2600/opt/anaconda3/envs/dev/lib/python3.7/site-packages/cartopy/crs.py:297: ShapelyDeprecationWarning: Iteration over multi-part geometries is deprecated and will be removed in Shapely 2.0. Use the `geoms` property to access the constituent parts of a multi-part geometry.\n",
      "  for line in multi_line_string:\n",
      "/Users/a2600/opt/anaconda3/envs/dev/lib/python3.7/site-packages/cartopy/crs.py:364: ShapelyDeprecationWarning: __len__ for multi-part geometries is deprecated and will be removed in Shapely 2.0. Check the length of the `geoms` property instead to get the  number of parts of a multi-part geometry.\n",
      "  if len(p_mline) > 0:\n",
      "/Users/a2600/opt/anaconda3/envs/dev/lib/python3.7/site-packages/cartopy/crs.py:245: ShapelyDeprecationWarning: __len__ for multi-part geometries is deprecated and will be removed in Shapely 2.0. Check the length of the `geoms` property instead to get the  number of parts of a multi-part geometry.\n",
      "  if len(multi_line_string) > 1:\n",
      "/Users/a2600/opt/anaconda3/envs/dev/lib/python3.7/site-packages/cartopy/crs.py:297: ShapelyDeprecationWarning: Iteration over multi-part geometries is deprecated and will be removed in Shapely 2.0. Use the `geoms` property to access the constituent parts of a multi-part geometry.\n",
      "  for line in multi_line_string:\n",
      "/Users/a2600/opt/anaconda3/envs/dev/lib/python3.7/site-packages/cartopy/crs.py:364: ShapelyDeprecationWarning: __len__ for multi-part geometries is deprecated and will be removed in Shapely 2.0. Check the length of the `geoms` property instead to get the  number of parts of a multi-part geometry.\n",
      "  if len(p_mline) > 0:\n",
      "/Users/a2600/opt/anaconda3/envs/dev/lib/python3.7/site-packages/cartopy/crs.py:245: ShapelyDeprecationWarning: __len__ for multi-part geometries is deprecated and will be removed in Shapely 2.0. Check the length of the `geoms` property instead to get the  number of parts of a multi-part geometry.\n",
      "  if len(multi_line_string) > 1:\n",
      "/Users/a2600/opt/anaconda3/envs/dev/lib/python3.7/site-packages/cartopy/crs.py:297: ShapelyDeprecationWarning: Iteration over multi-part geometries is deprecated and will be removed in Shapely 2.0. Use the `geoms` property to access the constituent parts of a multi-part geometry.\n",
      "  for line in multi_line_string:\n",
      "/Users/a2600/opt/anaconda3/envs/dev/lib/python3.7/site-packages/cartopy/crs.py:364: ShapelyDeprecationWarning: __len__ for multi-part geometries is deprecated and will be removed in Shapely 2.0. Check the length of the `geoms` property instead to get the  number of parts of a multi-part geometry.\n",
      "  if len(p_mline) > 0:\n"
     ]
    },
    {
     "data": {},
     "metadata": {},
     "output_type": "display_data"
    },
    {
     "data": {
      "application/vnd.holoviews_exec.v0+json": "",
      "text/html": [
       "<div id='1813'>\n",
       "  <div class=\"bk-root\" id=\"06a04585-7f26-4380-baf5-1ee9af14770e\" data-root-id=\"1813\"></div>\n",
       "</div>\n",
       "<script type=\"application/javascript\">(function(root) {\n",
       "  function embed_document(root) {\n",
       "    var docs_json = {\"3644de58-2c8a-41e8-b966-5bf57d26c66a\":{\"defs\":[{\"extends\":null,\"module\":null,\"name\":\"ReactiveHTML1\",\"overrides\":[],\"properties\":[]},{\"extends\":null,\"module\":null,\"name\":\"FlexBox1\",\"overrides\":[],\"properties\":[{\"default\":\"flex-start\",\"kind\":null,\"name\":\"align_content\"},{\"default\":\"flex-start\",\"kind\":null,\"name\":\"align_items\"},{\"default\":\"row\",\"kind\":null,\"name\":\"flex_direction\"},{\"default\":\"wrap\",\"kind\":null,\"name\":\"flex_wrap\"},{\"default\":\"flex-start\",\"kind\":null,\"name\":\"justify_content\"}]},{\"extends\":null,\"module\":null,\"name\":\"GridStack1\",\"overrides\":[],\"properties\":[{\"default\":\"warn\",\"kind\":null,\"name\":\"mode\"},{\"default\":null,\"kind\":null,\"name\":\"ncols\"},{\"default\":null,\"kind\":null,\"name\":\"nrows\"},{\"default\":true,\"kind\":null,\"name\":\"allow_resize\"},{\"default\":true,\"kind\":null,\"name\":\"allow_drag\"},{\"default\":[],\"kind\":null,\"name\":\"state\"}]},{\"extends\":null,\"module\":null,\"name\":\"click1\",\"overrides\":[],\"properties\":[{\"default\":\"\",\"kind\":null,\"name\":\"terminal_output\"},{\"default\":\"\",\"kind\":null,\"name\":\"debug_name\"},{\"default\":0,\"kind\":null,\"name\":\"clears\"}]},{\"extends\":null,\"module\":null,\"name\":\"NotificationAreaBase1\",\"overrides\":[],\"properties\":[{\"default\":\"bottom-right\",\"kind\":null,\"name\":\"position\"},{\"default\":0,\"kind\":null,\"name\":\"_clear\"}]},{\"extends\":null,\"module\":null,\"name\":\"NotificationArea1\",\"overrides\":[],\"properties\":[{\"default\":[],\"kind\":null,\"name\":\"notifications\"},{\"default\":\"bottom-right\",\"kind\":null,\"name\":\"position\"},{\"default\":0,\"kind\":null,\"name\":\"_clear\"},{\"default\":[{\"background\":\"#ffc107\",\"icon\":{\"className\":\"fas fa-exclamation-triangle\",\"color\":\"white\",\"tagName\":\"i\"},\"type\":\"warning\"},{\"background\":\"#007bff\",\"icon\":{\"className\":\"fas fa-info-circle\",\"color\":\"white\",\"tagName\":\"i\"},\"type\":\"info\"}],\"kind\":null,\"name\":\"types\"}]},{\"extends\":null,\"module\":null,\"name\":\"Notification\",\"overrides\":[],\"properties\":[{\"default\":null,\"kind\":null,\"name\":\"background\"},{\"default\":3000,\"kind\":null,\"name\":\"duration\"},{\"default\":null,\"kind\":null,\"name\":\"icon\"},{\"default\":\"\",\"kind\":null,\"name\":\"message\"},{\"default\":null,\"kind\":null,\"name\":\"notification_type\"},{\"default\":false,\"kind\":null,\"name\":\"_destroyed\"}]},{\"extends\":null,\"module\":null,\"name\":\"TemplateActions1\",\"overrides\":[],\"properties\":[{\"default\":0,\"kind\":null,\"name\":\"open_modal\"},{\"default\":0,\"kind\":null,\"name\":\"close_modal\"}]},{\"extends\":null,\"module\":null,\"name\":\"MaterialTemplateActions1\",\"overrides\":[],\"properties\":[{\"default\":0,\"kind\":null,\"name\":\"open_modal\"},{\"default\":0,\"kind\":null,\"name\":\"close_modal\"}]}],\"roots\":{\"references\":[{\"attributes\":{},\"id\":\"1847\",\"type\":\"ResetTool\"},{\"attributes\":{\"end\":-8187655.96828672,\"min_interval\":5,\"reset_end\":-8187655.96828672,\"reset_start\":-8285497.081206661,\"start\":-8285497.081206661,\"tags\":[[[\"Longitude\",\"Longitude\",null]]]},\"id\":\"1819\",\"type\":\"Range1d\"},{\"attributes\":{\"source\":{\"id\":\"1890\"}},\"id\":\"1899\",\"type\":\"CDSView\"},{\"attributes\":{\"coordinates\":null,\"data_source\":{\"id\":\"1890\"},\"glyph\":{\"id\":\"1893\"},\"group\":null,\"hover_glyph\":{\"id\":\"1896\"},\"muted_glyph\":{\"id\":\"1897\"},\"nonselection_glyph\":{\"id\":\"1894\"},\"selection_glyph\":{\"id\":\"1895\"},\"view\":{\"id\":\"1899\"}},\"id\":\"1898\",\"type\":\"GlyphRenderer\"},{\"attributes\":{\"bottom_units\":\"screen\",\"coordinates\":null,\"fill_alpha\":0.5,\"fill_color\":\"lightgrey\",\"group\":null,\"left_units\":\"screen\",\"level\":\"overlay\",\"line_alpha\":1.0,\"line_color\":\"black\",\"line_dash\":[4,4],\"line_width\":2,\"right_units\":\"screen\",\"syncable\":false,\"top_units\":\"screen\"},\"id\":\"1848\",\"type\":\"BoxAnnotation\"},{\"attributes\":{\"attribution\":\"&copy; <a href=\\\"https://www.openstreetmap.org/copyright\\\">OpenStreetMap</a> contributors\",\"url\":\"https://c.tile.openstreetmap.org/{Z}/{X}/{Y}.png\"},\"id\":\"1884\",\"type\":\"WMTSTileSource\"},{\"attributes\":{\"axis_label\":\"x\",\"coordinates\":null,\"formatter\":{\"id\":\"1859\"},\"group\":null,\"major_label_policy\":{\"id\":\"1864\"},\"ticker\":{\"id\":\"1858\"}},\"id\":\"1835\",\"type\":\"LinearAxis\"},{\"attributes\":{\"dimension\":\"lat\"},\"id\":\"1860\",\"type\":\"MercatorTicker\"},{\"attributes\":{\"axis\":{\"id\":\"1839\"},\"coordinates\":null,\"dimension\":1,\"grid_line_color\":null,\"group\":null,\"ticker\":null},\"id\":\"1842\",\"type\":\"Grid\"},{\"attributes\":{\"label\":{\"field\":\"color\"},\"renderers\":[{\"id\":\"1898\"}]},\"id\":\"1907\",\"type\":\"LegendItem\"},{\"attributes\":{\"coordinates\":null,\"group\":null,\"level\":\"glyph\",\"tile_source\":{\"id\":\"1884\"}},\"id\":\"1887\",\"type\":\"TileRenderer\"},{\"attributes\":{\"axis\":{\"id\":\"1835\"},\"coordinates\":null,\"grid_line_color\":null,\"group\":null,\"ticker\":null},\"id\":\"1838\",\"type\":\"Grid\"},{\"attributes\":{},\"id\":\"1891\",\"type\":\"Selection\"},{\"attributes\":{},\"id\":\"1903\",\"type\":\"UnionRenderers\"},{\"attributes\":{\"factors\":[\"Park\",\"Cemetery\",\"Garden\",\"Island\",\"Hill Park\",\"Circle\",\"Square\",\"Terminal\",\"Hamilton\",\"Field\",\"Track\",\"nan\",\"Corona\",\"Totten\",\"Schuyler\",\"Tilden\",\"Harbor\",\"Wadsworth\",\"Loretto\",\"Golf\",\"Kills\",\"Beach\",\"International Airport\",\"Wildlife Refuge\"],\"palette\":[\"#1f77b3\",\"#ff7e0e\",\"#2ba02b\",\"#d62628\",\"#9367bc\",\"#8c564b\",\"#e277c1\",\"#7e7e7e\",\"#bcbc21\",\"#16bdcf\",\"#3a0182\",\"#004201\",\"#0fffa8\",\"#5d003f\",\"#bcbcff\",\"#d8afa1\",\"#b80080\",\"#004d52\",\"#6b6400\",\"#7c0100\",\"#6026ff\",\"#ffff9a\",\"#564964\",\"#8cb893\"]},\"id\":\"1889\",\"type\":\"CategoricalColorMapper\"},{\"attributes\":{\"code\":\"\\n        var projections = Bokeh.require(\\\"core/util/projections\\\");\\n        var x = special_vars.data_x\\n        var y = special_vars.data_y\\n        if (projections.wgs84_mercator.invert == null) {\\n          var coords = projections.wgs84_mercator.inverse([x, y])\\n        } else {\\n          var coords = projections.wgs84_mercator.invert(x, y)\\n        }\\n        return \\\"\\\" + (coords[0]).toFixed(4)\\n    \"},\"id\":\"1908\",\"type\":\"CustomJSHover\"},{\"attributes\":{\"axis_label\":\"y\",\"coordinates\":null,\"formatter\":{\"id\":\"1861\"},\"group\":null,\"major_label_policy\":{\"id\":\"1871\"},\"ticker\":{\"id\":\"1860\"}},\"id\":\"1839\",\"type\":\"LinearAxis\"},{\"attributes\":{\"fill_alpha\":{\"value\":0.8},\"fill_color\":{\"field\":\"color\",\"transform\":{\"id\":\"1889\"}},\"hatch_alpha\":{\"value\":0.8},\"hatch_color\":{\"field\":\"color\",\"transform\":{\"id\":\"1889\"}},\"line_alpha\":{\"value\":0.8},\"line_color\":{\"field\":\"color\",\"transform\":{\"id\":\"1889\"}},\"size\":{\"value\":5.477225575051661},\"x\":{\"field\":\"Longitude\"},\"y\":{\"field\":\"Latitude\"}},\"id\":\"1893\",\"type\":\"Scatter\"},{\"attributes\":{\"fill_alpha\":{\"value\":0.8},\"fill_color\":{\"field\":\"color\",\"transform\":{\"id\":\"1889\"}},\"hatch_alpha\":{\"value\":0.1},\"hatch_color\":{\"field\":\"color\",\"transform\":{\"id\":\"1889\"}},\"line_alpha\":{\"value\":0.8},\"line_color\":{\"field\":\"color\",\"transform\":{\"id\":\"1889\"}},\"size\":{\"value\":5.477225575051661},\"x\":{\"field\":\"Longitude\"},\"y\":{\"field\":\"Latitude\"}},\"id\":\"1894\",\"type\":\"Scatter\"},{\"attributes\":{\"margin\":[5,5,5,5],\"name\":\"HSpacer02344\",\"sizing_mode\":\"stretch_width\"},\"id\":\"1916\",\"type\":\"Spacer\"},{\"attributes\":{\"tools\":[{\"id\":\"1823\"},{\"id\":\"1843\"},{\"id\":\"1844\"},{\"id\":\"1845\"},{\"id\":\"1846\"},{\"id\":\"1847\"}]},\"id\":\"1849\",\"type\":\"Toolbar\"},{\"attributes\":{\"fill_alpha\":{\"value\":0.8},\"fill_color\":{\"field\":\"color\",\"transform\":{\"id\":\"1889\"}},\"hatch_alpha\":{\"value\":0.8},\"hatch_color\":{\"field\":\"color\",\"transform\":{\"id\":\"1889\"}},\"line_alpha\":{\"value\":0.8},\"line_color\":{\"field\":\"color\",\"transform\":{\"id\":\"1889\"}},\"size\":{\"value\":5.477225575051661},\"x\":{\"field\":\"Longitude\"},\"y\":{\"field\":\"Latitude\"}},\"id\":\"1896\",\"type\":\"Scatter\"},{\"attributes\":{\"children\":[{\"id\":\"1814\"},{\"id\":\"1826\"},{\"id\":\"1916\"}],\"margin\":[0,0,0,0],\"name\":\"Row02339\",\"tags\":[\"embedded\"]},\"id\":\"1813\",\"type\":\"Row\"},{\"attributes\":{\"fill_alpha\":{\"value\":0.2},\"fill_color\":{\"field\":\"color\",\"transform\":{\"id\":\"1889\"}},\"hatch_alpha\":{\"value\":0.2},\"hatch_color\":{\"field\":\"color\",\"transform\":{\"id\":\"1889\"}},\"line_alpha\":{\"value\":0.2},\"line_color\":{\"field\":\"color\",\"transform\":{\"id\":\"1889\"}},\"size\":{\"value\":5.477225575051661},\"x\":{\"field\":\"Longitude\"},\"y\":{\"field\":\"Latitude\"}},\"id\":\"1897\",\"type\":\"Scatter\"},{\"attributes\":{},\"id\":\"1864\",\"type\":\"AllLabels\"},{\"attributes\":{\"end\":5002868.404392054,\"min_interval\":5,\"reset_end\":5002868.404392054,\"reset_start\":4932981.895163525,\"start\":4932981.895163525,\"tags\":[[[\"Latitude\",\"Latitude\",null]]]},\"id\":\"1820\",\"type\":\"Range1d\"},{\"attributes\":{\"dimension\":\"lat\"},\"id\":\"1861\",\"type\":\"MercatorTickFormatter\"},{\"attributes\":{\"code\":\"\\n        var projections = Bokeh.require(\\\"core/util/projections\\\");\\n        var x = special_vars.data_x\\n        var y = special_vars.data_y\\n        if (projections.wgs84_mercator.invert == null) {\\n          var coords = projections.wgs84_mercator.inverse([x, y])\\n        } else {\\n          var coords = projections.wgs84_mercator.invert(x, y)\\n        }\\n        return \\\"\\\" + (coords[1]).toFixed(4)\\n    \"},\"id\":\"1909\",\"type\":\"CustomJSHover\"},{\"attributes\":{},\"id\":\"1843\",\"type\":\"SaveTool\"},{\"attributes\":{},\"id\":\"1871\",\"type\":\"AllLabels\"},{\"attributes\":{},\"id\":\"1833\",\"type\":\"LinearScale\"},{\"attributes\":{},\"id\":\"1844\",\"type\":\"PanTool\"},{\"attributes\":{\"coordinates\":null,\"group\":null,\"text_color\":\"black\",\"text_font_size\":\"12pt\"},\"id\":\"1827\",\"type\":\"Title\"},{\"attributes\":{\"zoom_on_axis\":false},\"id\":\"1845\",\"type\":\"WheelZoomTool\"},{\"attributes\":{},\"id\":\"1831\",\"type\":\"LinearScale\"},{\"attributes\":{\"fill_alpha\":{\"value\":0.8},\"fill_color\":{\"field\":\"color\",\"transform\":{\"id\":\"1889\"}},\"hatch_alpha\":{\"value\":0.8},\"hatch_color\":{\"field\":\"color\",\"transform\":{\"id\":\"1889\"}},\"line_alpha\":{\"value\":0.8},\"line_color\":{\"field\":\"color\",\"transform\":{\"id\":\"1889\"}},\"size\":{\"value\":5.477225575051661},\"x\":{\"field\":\"Longitude\"},\"y\":{\"field\":\"Latitude\"}},\"id\":\"1895\",\"type\":\"Scatter\"},{\"attributes\":{\"below\":[{\"id\":\"1835\"}],\"center\":[{\"id\":\"1838\"},{\"id\":\"1842\"}],\"frame_height\":500,\"frame_width\":700,\"height\":null,\"left\":[{\"id\":\"1839\"}],\"margin\":[5,5,5,5],\"match_aspect\":true,\"min_border_bottom\":10,\"min_border_left\":10,\"min_border_right\":10,\"min_border_top\":10,\"renderers\":[{\"id\":\"1887\"},{\"id\":\"1898\"}],\"right\":[{\"id\":\"1906\"}],\"sizing_mode\":\"fixed\",\"title\":{\"id\":\"1827\"},\"toolbar\":{\"id\":\"1849\"},\"width\":null,\"x_range\":{\"id\":\"1819\"},\"x_scale\":{\"id\":\"1831\"},\"y_range\":{\"id\":\"1820\"},\"y_scale\":{\"id\":\"1833\"}},\"id\":\"1826\",\"subtype\":\"Figure\",\"type\":\"Plot\"},{\"attributes\":{\"data\":{\"Latitude\":{\"__ndarray__\":\"1cxBK+0PU0EFkxUdBA9TQcERDNWYDlNBXEPLS04NU0Fk/NYvWwtTQWcWH6ATClNBg3QWn3IFU0Gw21nzKARTQfHw925RBFNBHT83h6AHU0HEPWjhIwlTQU5VGKx6CVNBIQmrgr8DU0FUgp4ceQxTQdaHhXImC1NBVR+zxfIAU0E2n8zEmAJTQWY2bGSDAVNBNgXi4df/UkFG10dTpP9SQRYytaaD/VJBzRE1xxL8UkE3tSfizPlSQZpHk1zo+FJBpiJdeTvyUkFyx/lLv/ZSQRIB5IfE/lJBPJgPq3DvUkEGDhf6Me5SQWCzB1bg7FJB4fjBHSLsUkHbdt/IT+1SQQOrS/ck61JB+hezdHrmUkGlbd0gEOdSQQ15ZjdR6FJB/Rk/I+flUkFBoIoDLeRSQRrpizkS6VJBtCupfsPvUkFIEKZefvBSQfOrjj/b7FJBzBzON+rvUkFrxoU9BPJSQaedhvlD9FJBNC8wVifzUkF8uaSy7PVSQUFakBRB9VJBkJXlI732UkG5rCM5q/ZSQQheUTKB9VJBSfFpQrjxUkGNe8lDM/lSQXVLmcqj+FJB+AQR/iT6UkF2Wbv56fdSQfPcn04HAVNBRyKYmJn/UkGK0c35+/1SQRgb0XNy+1JB2jwSeij7UkG8Hlou6QJTQdc20LOJ+FJBPUxXNBH5UkErzkwSWfhSQespz+/S4FJBBMYy6+3fUkHNCCTvUPJSQUlrjmyi81JBABEW5XrrUkEwHls8VOlSQbR1qMkD6FJB4w0CngzmUkGN3Nkx2OBSQaYAgPMK3lJBtTMravLiUkFC4KPq3eJSQbBwHZ+C5VJB5WLTYpXbUkGMYLAQOdpSQWez2Ah/2FJBK3H4Zw3XUkFgPElCb95SQaYL8y214VJBo0XGBQTjUkFpaLheTuxSQYqKYu+R/lJBTmCtk7LoUkH4MYvrSONSQX2nd1IN5FJBrgdEGb7vUkHWHNvv/vxSQa60sW1dD1NBZylGtKvzUkEv0DQ6/OtSQRiBvh8O7FJB\",\"dtype\":\"float64\",\"order\":\"little\",\"shape\":[96]},\"Longitude\":{\"__ndarray__\":\"MMxcTIBgX8Gg8uiknl5fwZEnBwEIW1/BhZa9Z+VXX8GuyW7mV19fwc1/1e0eX1/BJUQxHKtaX8G1PV23ZlpfwTbGXiytXl/Bkhwb/xJhX8GtiwZ1Al9fwUos9vOKU1/BfFpV0vpiX8EONZozjGRfwalqsXArZV/B9ePZ39NfX8EfPlliV2ZfwV6DY3wPZF/B9xEPw/VkX8Flx03K1mhfwYW4t+qaal/BbRQ255dqX8G03bp5RmtfwUDg7NuGa1/BW8o2WZJuX8E8ovo5WmdfwY368P5WZF/ByFS+1uNoX8HCEcpDNmlfwRgcX4+Ia1/B30+0VstlX8Fwpf6Jl25fwXmkv7gVcF/BWqK21rNvX8G9Le31sm5fwfIHQtvmaV/BvroF6FFkX8EipVn0n2BfwaOD+/F+YV/BcpOS2ihaX8GvmzoLz1xfwSK8dmynUV/BGVO3emhVX8EetycLylNfwb4ogozQW1/B8z2YnhtfX8HQkxTQHF5fwQLDWFk4Y1/BujBU0UJhX8ELwEPCfF9fwe1JNEpXYF/BUWbDAH9QX8GYd68vVVtfwfzQ5ucgWl/BJ/abxEZXX8FOW3y5dlNfwS+hwJ5VVF/B4HXbr55VX8G3jQDWdVNfwYgvybHFUF/BHpUQKXhPX8EBS5QgFVZfwVlFaE/6ZF/BDGWLeyFjX8F/wrTKj2JfwTgK3MacXl/BHp8JrCVhX8HEVozHfnFfwRO1BpvwcF/BiUXayMl3X8E+96Fg23ZfwR+hPlGbeF/BPOLHfPdyX8Fg6vj9UHdfwcisvyk6el/BCwpgoFR5X8HwGwNxEHxfwWNVeo/GfV/Bw5t0q6J/X8FgB3jcfYFfwXz+ZUVHhF/BIlEaGpiHX8GFY0y53IJfwRntScDEgV/Br3P7bVhjX8HIC5n1TlVfwZcJWtXnXl/B6QdxObBZX8EDahsf42tfwQmJh8wQeV/B8qGHHC1tX8E63SQRiWFfwR7Zw/GHY1/BQmKV7KVdX8Emb1oW5l1fwWuBNv+iW1/B\",\"dtype\":\"float64\",\"order\":\"little\",\"shape\":[96]},\"PlaceType\":[\"Park\",\"Cemetery\",\"Park\",\"Park\",\"Garden\",\"Park\",\"Cemetery\",\"Park\",\"Park\",\"Park\",\"Park\",\"Island\",\"Park\",\"Hill Park\",\"Park\",\"Island\",\"Park\",\"Park\",\"Park\",\"Park\",\"Circle\",\"Square\",\"Square\",\"Square\",\"Island\",\"Park\",\"Park\",\"Garden\",\"Park\",\"Cemetery\",\"Cemetery\",\"Terminal\",\"Park\",\"Hamilton\",\"Park\",\"Cemetery\",\"Park\",\"Field\",\"Park\",\"Track\",\"Cemetery\",\"Park\",\"Park\",\"Park\",\"nan\",\"Cemetery\",\"Cemetery\",\"Cemetery\",\"Cemetery\",\"Park\",\"Cemetery\",\"Cemetery\",\"Corona\",\"Cemetery\",\"nan\",\"Park\",\"Totten\",\"Park\",\"Park\",\"Park\",\"Park\",\"Schuyler\",\"Cemetery\",\"Cemetery\",\"Cemetery\",\"Park\",\"Tilden\",\"Island\",\"Island\",\"Harbor\",\"Park\",\"Park\",\"Wadsworth\",\"Field\",\"Park\",\"Cemetery\",\"Park\",\"Park\",\"Park\",\"Park\",\"Loretto\",\"Park\",\"Golf\",\"Kills\",\"Beach\",\"International Airport\",\"nan\",\"Wildlife Refuge\",\"Park\",\"Park\",\"Park\",\"Cemetery\",\"Park\",\"nan\",\"Park\",\"Park\"],\"color\":[\"Park\",\"Cemetery\",\"Park\",\"Park\",\"Garden\",\"Park\",\"Cemetery\",\"Park\",\"Park\",\"Park\",\"Park\",\"Island\",\"Park\",\"Hill Park\",\"Park\",\"Island\",\"Park\",\"Park\",\"Park\",\"Park\",\"Circle\",\"Square\",\"Square\",\"Square\",\"Island\",\"Park\",\"Park\",\"Garden\",\"Park\",\"Cemetery\",\"Cemetery\",\"Terminal\",\"Park\",\"Hamilton\",\"Park\",\"Cemetery\",\"Park\",\"Field\",\"Park\",\"Track\",\"Cemetery\",\"Park\",\"Park\",\"Park\",\"nan\",\"Cemetery\",\"Cemetery\",\"Cemetery\",\"Cemetery\",\"Park\",\"Cemetery\",\"Cemetery\",\"Corona\",\"Cemetery\",\"nan\",\"Park\",\"Totten\",\"Park\",\"Park\",\"Park\",\"Park\",\"Schuyler\",\"Cemetery\",\"Cemetery\",\"Cemetery\",\"Park\",\"Tilden\",\"Island\",\"Island\",\"Harbor\",\"Park\",\"Park\",\"Wadsworth\",\"Field\",\"Park\",\"Cemetery\",\"Park\",\"Park\",\"Park\",\"Park\",\"Loretto\",\"Park\",\"Golf\",\"Kills\",\"Beach\",\"International Airport\",\"nan\",\"Wildlife Refuge\",\"Park\",\"Park\",\"Park\",\"Cemetery\",\"Park\",\"nan\",\"Park\",\"Park\"]},\"selected\":{\"id\":\"1891\"},\"selection_policy\":{\"id\":\"1903\"}},\"id\":\"1890\",\"type\":\"ColumnDataSource\"},{\"attributes\":{\"margin\":[5,5,5,5],\"name\":\"HSpacer02343\",\"sizing_mode\":\"stretch_width\"},\"id\":\"1814\",\"type\":\"Spacer\"},{\"attributes\":{\"callback\":null,\"formatters\":{\"$x\":{\"id\":\"1908\"},\"$y\":{\"id\":\"1909\"}},\"renderers\":[{\"id\":\"1898\"}],\"tags\":[\"hv_created\"],\"tooltips\":[[\"Longitude\",\"$x{custom}\"],[\"Latitude\",\"$y{custom}\"],[\"PlaceType\",\"@{PlaceType}\"]]},\"id\":\"1823\",\"type\":\"HoverTool\"},{\"attributes\":{\"match_aspect\":true,\"overlay\":{\"id\":\"1848\"}},\"id\":\"1846\",\"type\":\"BoxZoomTool\"},{\"attributes\":{\"dimension\":\"lon\"},\"id\":\"1859\",\"type\":\"MercatorTickFormatter\"},{\"attributes\":{\"dimension\":\"lon\"},\"id\":\"1858\",\"type\":\"MercatorTicker\"},{\"attributes\":{\"click_policy\":\"mute\",\"coordinates\":null,\"group\":null,\"items\":[{\"id\":\"1907\"}],\"location\":[0,0]},\"id\":\"1906\",\"type\":\"Legend\"}],\"root_ids\":[\"1813\"]},\"title\":\"Bokeh Application\",\"version\":\"2.4.3\"}};\n",
       "    var render_items = [{\"docid\":\"3644de58-2c8a-41e8-b966-5bf57d26c66a\",\"root_ids\":[\"1813\"],\"roots\":{\"1813\":\"06a04585-7f26-4380-baf5-1ee9af14770e\"}}];\n",
       "    root.Bokeh.embed.embed_items_notebook(docs_json, render_items);\n",
       "  }\n",
       "  if (root.Bokeh !== undefined && root.Bokeh.Panel !== undefined) {\n",
       "    embed_document(root);\n",
       "  } else {\n",
       "    var attempts = 0;\n",
       "    var timer = setInterval(function(root) {\n",
       "      if (root.Bokeh !== undefined && root.Bokeh.Panel !== undefined) {\n",
       "        clearInterval(timer);\n",
       "        embed_document(root);\n",
       "      } else if (document.readyState == \"complete\") {\n",
       "        attempts++;\n",
       "        if (attempts > 200) {\n",
       "          clearInterval(timer);\n",
       "          console.log(\"Bokeh: ERROR: Unable to run BokehJS code because BokehJS library is missing\");\n",
       "        }\n",
       "      }\n",
       "    }, 25, root)\n",
       "  }\n",
       "})(window);</script>"
      ],
      "text/plain": [
       ":Overlay\n",
       "   .Tiles.I  :Tiles   [x,y]\n",
       "   .Points.I :Points   [Longitude,Latitude]   (PlaceType)"
      ]
     },
     "execution_count": 15,
     "metadata": {
      "application/vnd.holoviews_exec.v0+json": {
       "id": "1813"
      }
     },
     "output_type": "execute_result"
    }
   ],
   "source": [
    "# Plot all of the NYC places of interest\n",
    "# Set the color parameter to PlaceType\n",
    "# Keep all other parameters the same as the previous plot\n",
    "\n",
    "places_of_interest_by_type =  places_of_interest.hvplot.points(\n",
    "    'Longitude',\n",
    "    'Latitude',\n",
    "    geo=True,\n",
    "    color= 'PlaceType',\n",
    "    alpha=0.8,\n",
    "    tiles=\"OSM\",\n",
    "    frame_width=700,\n",
    "    frame_height=500\n",
    "    )\n",
    "\n",
    " \n",
    "# Show the plot\n",
    "places_of_interest_by_type"
   ]
  },
  {
   "cell_type": "markdown",
   "metadata": {},
   "source": [
    "### Step 4: Plot All Places of Interest by Borough"
   ]
  },
  {
   "cell_type": "code",
   "execution_count": 14,
   "metadata": {},
   "outputs": [
    {
     "name": "stderr",
     "output_type": "stream",
     "text": [
      "/Users/a2600/opt/anaconda3/envs/dev/lib/python3.7/site-packages/cartopy/crs.py:245: ShapelyDeprecationWarning: __len__ for multi-part geometries is deprecated and will be removed in Shapely 2.0. Check the length of the `geoms` property instead to get the  number of parts of a multi-part geometry.\n",
      "  if len(multi_line_string) > 1:\n",
      "/Users/a2600/opt/anaconda3/envs/dev/lib/python3.7/site-packages/cartopy/crs.py:297: ShapelyDeprecationWarning: Iteration over multi-part geometries is deprecated and will be removed in Shapely 2.0. Use the `geoms` property to access the constituent parts of a multi-part geometry.\n",
      "  for line in multi_line_string:\n",
      "/Users/a2600/opt/anaconda3/envs/dev/lib/python3.7/site-packages/cartopy/crs.py:364: ShapelyDeprecationWarning: __len__ for multi-part geometries is deprecated and will be removed in Shapely 2.0. Check the length of the `geoms` property instead to get the  number of parts of a multi-part geometry.\n",
      "  if len(p_mline) > 0:\n",
      "/Users/a2600/opt/anaconda3/envs/dev/lib/python3.7/site-packages/cartopy/crs.py:245: ShapelyDeprecationWarning: __len__ for multi-part geometries is deprecated and will be removed in Shapely 2.0. Check the length of the `geoms` property instead to get the  number of parts of a multi-part geometry.\n",
      "  if len(multi_line_string) > 1:\n",
      "/Users/a2600/opt/anaconda3/envs/dev/lib/python3.7/site-packages/cartopy/crs.py:297: ShapelyDeprecationWarning: Iteration over multi-part geometries is deprecated and will be removed in Shapely 2.0. Use the `geoms` property to access the constituent parts of a multi-part geometry.\n",
      "  for line in multi_line_string:\n",
      "/Users/a2600/opt/anaconda3/envs/dev/lib/python3.7/site-packages/cartopy/crs.py:364: ShapelyDeprecationWarning: __len__ for multi-part geometries is deprecated and will be removed in Shapely 2.0. Check the length of the `geoms` property instead to get the  number of parts of a multi-part geometry.\n",
      "  if len(p_mline) > 0:\n",
      "/Users/a2600/opt/anaconda3/envs/dev/lib/python3.7/site-packages/cartopy/crs.py:245: ShapelyDeprecationWarning: __len__ for multi-part geometries is deprecated and will be removed in Shapely 2.0. Check the length of the `geoms` property instead to get the  number of parts of a multi-part geometry.\n",
      "  if len(multi_line_string) > 1:\n",
      "/Users/a2600/opt/anaconda3/envs/dev/lib/python3.7/site-packages/cartopy/crs.py:297: ShapelyDeprecationWarning: Iteration over multi-part geometries is deprecated and will be removed in Shapely 2.0. Use the `geoms` property to access the constituent parts of a multi-part geometry.\n",
      "  for line in multi_line_string:\n",
      "/Users/a2600/opt/anaconda3/envs/dev/lib/python3.7/site-packages/cartopy/crs.py:364: ShapelyDeprecationWarning: __len__ for multi-part geometries is deprecated and will be removed in Shapely 2.0. Check the length of the `geoms` property instead to get the  number of parts of a multi-part geometry.\n",
      "  if len(p_mline) > 0:\n"
     ]
    },
    {
     "data": {},
     "metadata": {},
     "output_type": "display_data"
    },
    {
     "data": {
      "application/vnd.holoviews_exec.v0+json": "",
      "text/html": [
       "<div id='1678'>\n",
       "  <div class=\"bk-root\" id=\"8742a834-b542-4e8e-a7b4-cf46ab28902a\" data-root-id=\"1678\"></div>\n",
       "</div>\n",
       "<script type=\"application/javascript\">(function(root) {\n",
       "  function embed_document(root) {\n",
       "    var docs_json = {\"a9a9464c-4aff-46d7-8066-9c9a8c983265\":{\"defs\":[{\"extends\":null,\"module\":null,\"name\":\"ReactiveHTML1\",\"overrides\":[],\"properties\":[]},{\"extends\":null,\"module\":null,\"name\":\"FlexBox1\",\"overrides\":[],\"properties\":[{\"default\":\"flex-start\",\"kind\":null,\"name\":\"align_content\"},{\"default\":\"flex-start\",\"kind\":null,\"name\":\"align_items\"},{\"default\":\"row\",\"kind\":null,\"name\":\"flex_direction\"},{\"default\":\"wrap\",\"kind\":null,\"name\":\"flex_wrap\"},{\"default\":\"flex-start\",\"kind\":null,\"name\":\"justify_content\"}]},{\"extends\":null,\"module\":null,\"name\":\"GridStack1\",\"overrides\":[],\"properties\":[{\"default\":\"warn\",\"kind\":null,\"name\":\"mode\"},{\"default\":null,\"kind\":null,\"name\":\"ncols\"},{\"default\":null,\"kind\":null,\"name\":\"nrows\"},{\"default\":true,\"kind\":null,\"name\":\"allow_resize\"},{\"default\":true,\"kind\":null,\"name\":\"allow_drag\"},{\"default\":[],\"kind\":null,\"name\":\"state\"}]},{\"extends\":null,\"module\":null,\"name\":\"click1\",\"overrides\":[],\"properties\":[{\"default\":\"\",\"kind\":null,\"name\":\"terminal_output\"},{\"default\":\"\",\"kind\":null,\"name\":\"debug_name\"},{\"default\":0,\"kind\":null,\"name\":\"clears\"}]},{\"extends\":null,\"module\":null,\"name\":\"NotificationAreaBase1\",\"overrides\":[],\"properties\":[{\"default\":\"bottom-right\",\"kind\":null,\"name\":\"position\"},{\"default\":0,\"kind\":null,\"name\":\"_clear\"}]},{\"extends\":null,\"module\":null,\"name\":\"NotificationArea1\",\"overrides\":[],\"properties\":[{\"default\":[],\"kind\":null,\"name\":\"notifications\"},{\"default\":\"bottom-right\",\"kind\":null,\"name\":\"position\"},{\"default\":0,\"kind\":null,\"name\":\"_clear\"},{\"default\":[{\"background\":\"#ffc107\",\"icon\":{\"className\":\"fas fa-exclamation-triangle\",\"color\":\"white\",\"tagName\":\"i\"},\"type\":\"warning\"},{\"background\":\"#007bff\",\"icon\":{\"className\":\"fas fa-info-circle\",\"color\":\"white\",\"tagName\":\"i\"},\"type\":\"info\"}],\"kind\":null,\"name\":\"types\"}]},{\"extends\":null,\"module\":null,\"name\":\"Notification\",\"overrides\":[],\"properties\":[{\"default\":null,\"kind\":null,\"name\":\"background\"},{\"default\":3000,\"kind\":null,\"name\":\"duration\"},{\"default\":null,\"kind\":null,\"name\":\"icon\"},{\"default\":\"\",\"kind\":null,\"name\":\"message\"},{\"default\":null,\"kind\":null,\"name\":\"notification_type\"},{\"default\":false,\"kind\":null,\"name\":\"_destroyed\"}]},{\"extends\":null,\"module\":null,\"name\":\"TemplateActions1\",\"overrides\":[],\"properties\":[{\"default\":0,\"kind\":null,\"name\":\"open_modal\"},{\"default\":0,\"kind\":null,\"name\":\"close_modal\"}]},{\"extends\":null,\"module\":null,\"name\":\"MaterialTemplateActions1\",\"overrides\":[],\"properties\":[{\"default\":0,\"kind\":null,\"name\":\"open_modal\"},{\"default\":0,\"kind\":null,\"name\":\"close_modal\"}]}],\"roots\":{\"references\":[{\"attributes\":{\"axis_label\":\"y\",\"coordinates\":null,\"formatter\":{\"id\":\"1726\"},\"group\":null,\"major_label_policy\":{\"id\":\"1736\"},\"ticker\":{\"id\":\"1725\"}},\"id\":\"1704\",\"type\":\"LinearAxis\"},{\"attributes\":{\"code\":\"\\n        var projections = Bokeh.require(\\\"core/util/projections\\\");\\n        var x = special_vars.data_x\\n        var y = special_vars.data_y\\n        if (projections.wgs84_mercator.invert == null) {\\n          var coords = projections.wgs84_mercator.inverse([x, y])\\n        } else {\\n          var coords = projections.wgs84_mercator.invert(x, y)\\n        }\\n        return \\\"\\\" + (coords[1]).toFixed(4)\\n    \"},\"id\":\"1774\",\"type\":\"CustomJSHover\"},{\"attributes\":{\"dimension\":\"lon\"},\"id\":\"1724\",\"type\":\"MercatorTickFormatter\"},{\"attributes\":{},\"id\":\"1768\",\"type\":\"UnionRenderers\"},{\"attributes\":{},\"id\":\"1756\",\"type\":\"Selection\"},{\"attributes\":{\"margin\":[5,5,5,5],\"name\":\"HSpacer02217\",\"sizing_mode\":\"stretch_width\"},\"id\":\"1781\",\"type\":\"Spacer\"},{\"attributes\":{\"coordinates\":null,\"group\":null,\"level\":\"glyph\",\"tile_source\":{\"id\":\"1749\"}},\"id\":\"1752\",\"type\":\"TileRenderer\"},{\"attributes\":{\"coordinates\":null,\"data_source\":{\"id\":\"1755\"},\"glyph\":{\"id\":\"1758\"},\"group\":null,\"hover_glyph\":{\"id\":\"1761\"},\"muted_glyph\":{\"id\":\"1762\"},\"nonselection_glyph\":{\"id\":\"1759\"},\"selection_glyph\":{\"id\":\"1760\"},\"view\":{\"id\":\"1764\"}},\"id\":\"1763\",\"type\":\"GlyphRenderer\"},{\"attributes\":{\"below\":[{\"id\":\"1700\"}],\"center\":[{\"id\":\"1703\"},{\"id\":\"1707\"}],\"frame_height\":500,\"frame_width\":700,\"height\":null,\"left\":[{\"id\":\"1704\"}],\"margin\":[5,5,5,5],\"match_aspect\":true,\"min_border_bottom\":10,\"min_border_left\":10,\"min_border_right\":10,\"min_border_top\":10,\"renderers\":[{\"id\":\"1752\"},{\"id\":\"1763\"}],\"right\":[{\"id\":\"1771\"}],\"sizing_mode\":\"fixed\",\"title\":{\"id\":\"1692\"},\"toolbar\":{\"id\":\"1714\"},\"width\":null,\"x_range\":{\"id\":\"1684\"},\"x_scale\":{\"id\":\"1696\"},\"y_range\":{\"id\":\"1685\"},\"y_scale\":{\"id\":\"1698\"}},\"id\":\"1691\",\"subtype\":\"Figure\",\"type\":\"Plot\"},{\"attributes\":{},\"id\":\"1729\",\"type\":\"AllLabels\"},{\"attributes\":{\"children\":[{\"id\":\"1679\"},{\"id\":\"1691\"},{\"id\":\"1781\"}],\"margin\":[0,0,0,0],\"name\":\"Row02212\",\"tags\":[\"embedded\"]},\"id\":\"1678\",\"type\":\"Row\"},{\"attributes\":{\"dimension\":\"lat\"},\"id\":\"1726\",\"type\":\"MercatorTickFormatter\"},{\"attributes\":{\"end\":-8187655.96828672,\"min_interval\":5,\"reset_end\":-8187655.96828672,\"reset_start\":-8285497.081206661,\"start\":-8285497.081206661,\"tags\":[[[\"Longitude\",\"Longitude\",null]]]},\"id\":\"1684\",\"type\":\"Range1d\"},{\"attributes\":{\"source\":{\"id\":\"1755\"}},\"id\":\"1764\",\"type\":\"CDSView\"},{\"attributes\":{},\"id\":\"1708\",\"type\":\"SaveTool\"},{\"attributes\":{\"click_policy\":\"mute\",\"coordinates\":null,\"group\":null,\"items\":[{\"id\":\"1772\"}],\"location\":[0,0]},\"id\":\"1771\",\"type\":\"Legend\"},{\"attributes\":{},\"id\":\"1709\",\"type\":\"PanTool\"},{\"attributes\":{\"factors\":[\"Van Cortlandt Park\",\"Woodlawn Cemetery\",\"Seton Falls Park\",\"Pelham Bay Park\",\"Botanical Garden\",\"Bronx Park\",\"Saint  Raymond's Cemetery\",\"Ferry Point Park\",\"Sound View Park\",\"Crotona Park\",\"Zoo/Wildlife Conser. Park\",\"Hart Island\",\"Saint Mary's Park\",\"Inwood Hill Park\",\"Fort Tryon Park\",\"Rikers Island\",\"Marcus Garvey Park\",\"Randall's Island Park\",\"Ward's Island Park\",\"Central Park\",\"Columbus Circle\",\"Times Square\",\"Madison Square\",\"Union Square\",\"Governors Island\",\"McCarren Park\",\"Astoria Park\",\"Botanic Garden\",\"Prospect Park\",\"Greenwood Cemetery\",\"Holy Cross Cemetery\",\"Bush Terminal\",\"Owls Head Park\",\"Fort Hamilton\",\"Dyker Beach Park\",\"Washington Cemetery\",\"Marine Park\",\"Floyd Bennett Field\",\"Canarsie Beach Park\",\"Aqueduct Race Track\",\"Bayside Cemetery\",\"Brookville Park\",\"Baisley Pond Park\",\"Roy Wilkins Park\",\"Forest Park\",\"Cypress Hills Cemetery\",\"Saint  Johns Cemetery\",\"Linden Hill Cemetery\",\"Mount Olivet Cemetery\",\"Juniper Valley Park\",\"Lutheran Cemetery\",\"Montefiore Cemetery\",\"Flushing Meadows Corona Park\",\"Mount Hebron Cemetery\",\"Kissena Park\",\"Cunningham Park\",\"Fort Totten\",\"Clearview Park\",\"Crocheron Park\",\"Alley Pond Park\",\"Douglaston Park\",\"Fort Schuyler\",\"Calvary Cemetery\",\"New Calvary Cemetery\",\"Mount Zion Cemetery\",\"Jacob Riis Park\",\"Fort Tilden\",\"Liberty Island\",\"Ellis Island\",\"Snug Harbor\",\"Silver Lake Park\",\"Clove Lakes Park\",\"Fort Wadsworth\",\"Miller Field\",\"Great Kills Park\",\"Moravian Cemetery\",\"LaTourette Park\",\"Willowbrook Park\",\"Blue Heron Park\",\"Wolfe's Pond Park\",\"Mount Loretto\",\"Conference House Park\",\"South Shore Golf Course\",\"Fresh Kills\",\"Plumb Beach\",\"John F. Kennedy International Airport\",\"LaGuardia Airport\",\"Jamaica Bay Wildlife Refuge\",\"Calvert Vaux\",\"High Rock Park\",\"Red Hook Park\",\"Saint Michael's Cemetery\",\"Riverdale Park\",\"Forest Park Golf Course\",\"Spring Creek Park Preserve No Access\",\"Spring Creek Park Gateway National Recreation Area\"],\"palette\":[\"#1f77b3\",\"#ff7e0e\",\"#2ba02b\",\"#d62628\",\"#9367bc\",\"#8c564b\",\"#e277c1\",\"#7e7e7e\",\"#bcbc21\",\"#16bdcf\",\"#3a0182\",\"#004201\",\"#0fffa8\",\"#5d003f\",\"#bcbcff\",\"#d8afa1\",\"#b80080\",\"#004d52\",\"#6b6400\",\"#7c0100\",\"#6026ff\",\"#ffff9a\",\"#564964\",\"#8cb893\",\"#93fbff\",\"#018267\",\"#90ff00\",\"#8200a0\",\"#ac8944\",\"#5b3400\",\"#ffbff2\",\"#ff6e75\",\"#798cff\",\"#dd00ff\",\"#505646\",\"#004489\",\"#ffbf60\",\"#ff018c\",\"#bdc8cf\",\"#af97b5\",\"#b65600\",\"#017000\",\"#cd87ff\",\"#1cd646\",\"#bfebc3\",\"#7997b5\",\"#a56089\",\"#6e8956\",\"#bc7c75\",\"#8a2844\",\"#00acff\",\"#8ed4ff\",\"#4b6d77\",\"#00d4b1\",\"#9300f2\",\"#8a9500\",\"#5d5b9e\",\"#fddfba\",\"#00939e\",\"#ffdb00\",\"#00aa79\",\"#520067\",\"#000091\",\"#0a5d3d\",\"#a5e275\",\"#623b41\",\"#c6c689\",\"#ff9eb5\",\"#cd4f6b\",\"#ff07d6\",\"#8a3a05\",\"#7e3d70\",\"#ff4901\",\"#602ba5\",\"#1c00ff\",\"#e6dfff\",\"#aa3baf\",\"#d89c00\",\"#a3a39e\",\"#3f69ff\",\"#46490c\",\"#7b6985\",\"#6b978c\",\"#ff9a75\",\"#835bff\",\"#7c6b46\",\"#80b654\",\"#bc0049\",\"#fd93ff\",\"#5d0018\",\"#89d1d1\",\"#9c8cd3\",\"#da6d42\",\"#8a5700\",\"#3b5069\",\"#4b6b3b\"]},\"id\":\"1754\",\"type\":\"CategoricalColorMapper\"},{\"attributes\":{\"zoom_on_axis\":false},\"id\":\"1710\",\"type\":\"WheelZoomTool\"},{\"attributes\":{},\"id\":\"1698\",\"type\":\"LinearScale\"},{\"attributes\":{\"coordinates\":null,\"group\":null,\"text_color\":\"black\",\"text_font_size\":\"12pt\"},\"id\":\"1692\",\"type\":\"Title\"},{\"attributes\":{\"fill_alpha\":{\"value\":0.2},\"fill_color\":{\"field\":\"color\",\"transform\":{\"id\":\"1754\"}},\"hatch_alpha\":{\"value\":0.2},\"hatch_color\":{\"field\":\"color\",\"transform\":{\"id\":\"1754\"}},\"line_alpha\":{\"value\":0.2},\"line_color\":{\"field\":\"color\",\"transform\":{\"id\":\"1754\"}},\"size\":{\"value\":5.477225575051661},\"x\":{\"field\":\"Longitude\"},\"y\":{\"field\":\"Latitude\"}},\"id\":\"1762\",\"type\":\"Scatter\"},{\"attributes\":{\"match_aspect\":true,\"overlay\":{\"id\":\"1713\"}},\"id\":\"1711\",\"type\":\"BoxZoomTool\"},{\"attributes\":{\"code\":\"\\n        var projections = Bokeh.require(\\\"core/util/projections\\\");\\n        var x = special_vars.data_x\\n        var y = special_vars.data_y\\n        if (projections.wgs84_mercator.invert == null) {\\n          var coords = projections.wgs84_mercator.inverse([x, y])\\n        } else {\\n          var coords = projections.wgs84_mercator.invert(x, y)\\n        }\\n        return \\\"\\\" + (coords[0]).toFixed(4)\\n    \"},\"id\":\"1773\",\"type\":\"CustomJSHover\"},{\"attributes\":{\"margin\":[5,5,5,5],\"name\":\"HSpacer02216\",\"sizing_mode\":\"stretch_width\"},\"id\":\"1679\",\"type\":\"Spacer\"},{\"attributes\":{\"fill_alpha\":{\"value\":0.8},\"fill_color\":{\"field\":\"color\",\"transform\":{\"id\":\"1754\"}},\"hatch_alpha\":{\"value\":0.8},\"hatch_color\":{\"field\":\"color\",\"transform\":{\"id\":\"1754\"}},\"line_alpha\":{\"value\":0.8},\"line_color\":{\"field\":\"color\",\"transform\":{\"id\":\"1754\"}},\"size\":{\"value\":5.477225575051661},\"x\":{\"field\":\"Longitude\"},\"y\":{\"field\":\"Latitude\"}},\"id\":\"1761\",\"type\":\"Scatter\"},{\"attributes\":{\"data\":{\"Latitude\":{\"__ndarray__\":\"1cxBK+0PU0EFkxUdBA9TQcERDNWYDlNBXEPLS04NU0Fk/NYvWwtTQWcWH6ATClNBg3QWn3IFU0Gw21nzKARTQfHw925RBFNBHT83h6AHU0HEPWjhIwlTQU5VGKx6CVNBIQmrgr8DU0FUgp4ceQxTQdaHhXImC1NBVR+zxfIAU0E2n8zEmAJTQWY2bGSDAVNBNgXi4df/UkFG10dTpP9SQRYytaaD/VJBzRE1xxL8UkE3tSfizPlSQZpHk1zo+FJBpiJdeTvyUkFyx/lLv/ZSQRIB5IfE/lJBPJgPq3DvUkEGDhf6Me5SQWCzB1bg7FJB4fjBHSLsUkHbdt/IT+1SQQOrS/ck61JB+hezdHrmUkGlbd0gEOdSQQ15ZjdR6FJB/Rk/I+flUkFBoIoDLeRSQRrpizkS6VJBtCupfsPvUkFIEKZefvBSQfOrjj/b7FJBzBzON+rvUkFrxoU9BPJSQaedhvlD9FJBNC8wVifzUkF8uaSy7PVSQUFakBRB9VJBkJXlI732UkG5rCM5q/ZSQQheUTKB9VJBSfFpQrjxUkGNe8lDM/lSQXVLmcqj+FJB+AQR/iT6UkF2Wbv56fdSQfPcn04HAVNBRyKYmJn/UkGK0c35+/1SQRgb0XNy+1JB2jwSeij7UkG8Hlou6QJTQdc20LOJ+FJBPUxXNBH5UkErzkwSWfhSQespz+/S4FJBBMYy6+3fUkHNCCTvUPJSQUlrjmyi81JBABEW5XrrUkEwHls8VOlSQbR1qMkD6FJB4w0CngzmUkGN3Nkx2OBSQaYAgPMK3lJBtTMravLiUkFC4KPq3eJSQbBwHZ+C5VJB5WLTYpXbUkGMYLAQOdpSQWez2Ah/2FJBK3H4Zw3XUkFgPElCb95SQaYL8y214VJBo0XGBQTjUkFpaLheTuxSQYqKYu+R/lJBTmCtk7LoUkH4MYvrSONSQX2nd1IN5FJBrgdEGb7vUkHWHNvv/vxSQa60sW1dD1NBZylGtKvzUkEv0DQ6/OtSQRiBvh8O7FJB\",\"dtype\":\"float64\",\"order\":\"little\",\"shape\":[96]},\"Longitude\":{\"__ndarray__\":\"MMxcTIBgX8Gg8uiknl5fwZEnBwEIW1/BhZa9Z+VXX8GuyW7mV19fwc1/1e0eX1/BJUQxHKtaX8G1PV23ZlpfwTbGXiytXl/Bkhwb/xJhX8GtiwZ1Al9fwUos9vOKU1/BfFpV0vpiX8EONZozjGRfwalqsXArZV/B9ePZ39NfX8EfPlliV2ZfwV6DY3wPZF/B9xEPw/VkX8Flx03K1mhfwYW4t+qaal/BbRQ255dqX8G03bp5RmtfwUDg7NuGa1/BW8o2WZJuX8E8ovo5WmdfwY368P5WZF/ByFS+1uNoX8HCEcpDNmlfwRgcX4+Ia1/B30+0VstlX8Fwpf6Jl25fwXmkv7gVcF/BWqK21rNvX8G9Le31sm5fwfIHQtvmaV/BvroF6FFkX8EipVn0n2BfwaOD+/F+YV/BcpOS2ihaX8GvmzoLz1xfwSK8dmynUV/BGVO3emhVX8EetycLylNfwb4ogozQW1/B8z2YnhtfX8HQkxTQHF5fwQLDWFk4Y1/BujBU0UJhX8ELwEPCfF9fwe1JNEpXYF/BUWbDAH9QX8GYd68vVVtfwfzQ5ucgWl/BJ/abxEZXX8FOW3y5dlNfwS+hwJ5VVF/B4HXbr55VX8G3jQDWdVNfwYgvybHFUF/BHpUQKXhPX8EBS5QgFVZfwVlFaE/6ZF/BDGWLeyFjX8F/wrTKj2JfwTgK3MacXl/BHp8JrCVhX8HEVozHfnFfwRO1BpvwcF/BiUXayMl3X8E+96Fg23ZfwR+hPlGbeF/BPOLHfPdyX8Fg6vj9UHdfwcisvyk6el/BCwpgoFR5X8HwGwNxEHxfwWNVeo/GfV/Bw5t0q6J/X8FgB3jcfYFfwXz+ZUVHhF/BIlEaGpiHX8GFY0y53IJfwRntScDEgV/Br3P7bVhjX8HIC5n1TlVfwZcJWtXnXl/B6QdxObBZX8EDahsf42tfwQmJh8wQeV/B8qGHHC1tX8E63SQRiWFfwR7Zw/GHY1/BQmKV7KVdX8Emb1oW5l1fwWuBNv+iW1/B\",\"dtype\":\"float64\",\"order\":\"little\",\"shape\":[96]},\"Name\":[\"Van Cortlandt Park\",\"Woodlawn Cemetery\",\"Seton Falls Park\",\"Pelham Bay Park\",\"Botanical Garden\",\"Bronx Park\",\"Saint  Raymond's Cemetery\",\"Ferry Point Park\",\"Sound View Park\",\"Crotona Park\",\"Zoo/Wildlife Conser. Park\",\"Hart Island\",\"Saint Mary's Park\",\"Inwood Hill Park\",\"Fort Tryon Park\",\"Rikers Island\",\"Marcus Garvey Park\",\"Randall's Island Park\",\"Ward's Island Park\",\"Central Park\",\"Columbus Circle\",\"Times Square\",\"Madison Square\",\"Union Square\",\"Governors Island\",\"McCarren Park\",\"Astoria Park\",\"Botanic Garden\",\"Prospect Park\",\"Greenwood Cemetery\",\"Holy Cross Cemetery\",\"Bush Terminal\",\"Owls Head Park\",\"Fort Hamilton\",\"Dyker Beach Park\",\"Washington Cemetery\",\"Marine Park\",\"Floyd Bennett Field\",\"Canarsie Beach Park\",\"Aqueduct Race Track\",\"Bayside Cemetery\",\"Brookville Park\",\"Baisley Pond Park\",\"Roy Wilkins Park\",\"Forest Park\",\"Cypress Hills Cemetery\",\"Saint  Johns Cemetery\",\"Linden Hill Cemetery\",\"Mount Olivet Cemetery\",\"Juniper Valley Park\",\"Lutheran Cemetery\",\"Montefiore Cemetery\",\"Flushing Meadows Corona Park\",\"Mount Hebron Cemetery\",\"Kissena Park\",\"Cunningham Park\",\"Fort Totten\",\"Clearview Park\",\"Crocheron Park\",\"Alley Pond Park\",\"Douglaston Park\",\"Fort Schuyler\",\"Calvary Cemetery\",\"New Calvary Cemetery\",\"Mount Zion Cemetery\",\"Jacob Riis Park\",\"Fort Tilden\",\"Liberty Island\",\"Ellis Island\",\"Snug Harbor\",\"Silver Lake Park\",\"Clove Lakes Park\",\"Fort Wadsworth\",\"Miller Field\",\"Great Kills Park\",\"Moravian Cemetery\",\"LaTourette Park\",\"Willowbrook Park\",\"Blue Heron Park\",\"Wolfe's Pond Park\",\"Mount Loretto\",\"Conference House Park\",\"South Shore Golf Course\",\"Fresh Kills\",\"Plumb Beach\",\"John F. Kennedy International Airport\",\"LaGuardia Airport\",\"Jamaica Bay Wildlife Refuge\",\"Calvert Vaux\",\"High Rock Park\",\"Red Hook Park\",\"Saint Michael's Cemetery\",\"Riverdale Park\",\"Forest Park Golf Course\",\"Spring Creek Park Preserve No Access\",\"Spring Creek Park Gateway National Recreation Area\"],\"color\":[\"Van Cortlandt Park\",\"Woodlawn Cemetery\",\"Seton Falls Park\",\"Pelham Bay Park\",\"Botanical Garden\",\"Bronx Park\",\"Saint  Raymond's Cemetery\",\"Ferry Point Park\",\"Sound View Park\",\"Crotona Park\",\"Zoo/Wildlife Conser. Park\",\"Hart Island\",\"Saint Mary's Park\",\"Inwood Hill Park\",\"Fort Tryon Park\",\"Rikers Island\",\"Marcus Garvey Park\",\"Randall's Island Park\",\"Ward's Island Park\",\"Central Park\",\"Columbus Circle\",\"Times Square\",\"Madison Square\",\"Union Square\",\"Governors Island\",\"McCarren Park\",\"Astoria Park\",\"Botanic Garden\",\"Prospect Park\",\"Greenwood Cemetery\",\"Holy Cross Cemetery\",\"Bush Terminal\",\"Owls Head Park\",\"Fort Hamilton\",\"Dyker Beach Park\",\"Washington Cemetery\",\"Marine Park\",\"Floyd Bennett Field\",\"Canarsie Beach Park\",\"Aqueduct Race Track\",\"Bayside Cemetery\",\"Brookville Park\",\"Baisley Pond Park\",\"Roy Wilkins Park\",\"Forest Park\",\"Cypress Hills Cemetery\",\"Saint  Johns Cemetery\",\"Linden Hill Cemetery\",\"Mount Olivet Cemetery\",\"Juniper Valley Park\",\"Lutheran Cemetery\",\"Montefiore Cemetery\",\"Flushing Meadows Corona Park\",\"Mount Hebron Cemetery\",\"Kissena Park\",\"Cunningham Park\",\"Fort Totten\",\"Clearview Park\",\"Crocheron Park\",\"Alley Pond Park\",\"Douglaston Park\",\"Fort Schuyler\",\"Calvary Cemetery\",\"New Calvary Cemetery\",\"Mount Zion Cemetery\",\"Jacob Riis Park\",\"Fort Tilden\",\"Liberty Island\",\"Ellis Island\",\"Snug Harbor\",\"Silver Lake Park\",\"Clove Lakes Park\",\"Fort Wadsworth\",\"Miller Field\",\"Great Kills Park\",\"Moravian Cemetery\",\"LaTourette Park\",\"Willowbrook Park\",\"Blue Heron Park\",\"Wolfe's Pond Park\",\"Mount Loretto\",\"Conference House Park\",\"South Shore Golf Course\",\"Fresh Kills\",\"Plumb Beach\",\"John F. Kennedy International Airport\",\"LaGuardia Airport\",\"Jamaica Bay Wildlife Refuge\",\"Calvert Vaux\",\"High Rock Park\",\"Red Hook Park\",\"Saint Michael's Cemetery\",\"Riverdale Park\",\"Forest Park Golf Course\",\"Spring Creek Park Preserve No Access\",\"Spring Creek Park Gateway National Recreation Area\"]},\"selected\":{\"id\":\"1756\"},\"selection_policy\":{\"id\":\"1768\"}},\"id\":\"1755\",\"type\":\"ColumnDataSource\"},{\"attributes\":{\"fill_alpha\":{\"value\":0.8},\"fill_color\":{\"field\":\"color\",\"transform\":{\"id\":\"1754\"}},\"hatch_alpha\":{\"value\":0.1},\"hatch_color\":{\"field\":\"color\",\"transform\":{\"id\":\"1754\"}},\"line_alpha\":{\"value\":0.8},\"line_color\":{\"field\":\"color\",\"transform\":{\"id\":\"1754\"}},\"size\":{\"value\":5.477225575051661},\"x\":{\"field\":\"Longitude\"},\"y\":{\"field\":\"Latitude\"}},\"id\":\"1759\",\"type\":\"Scatter\"},{\"attributes\":{},\"id\":\"1696\",\"type\":\"LinearScale\"},{\"attributes\":{},\"id\":\"1712\",\"type\":\"ResetTool\"},{\"attributes\":{\"bottom_units\":\"screen\",\"coordinates\":null,\"fill_alpha\":0.5,\"fill_color\":\"lightgrey\",\"group\":null,\"left_units\":\"screen\",\"level\":\"overlay\",\"line_alpha\":1.0,\"line_color\":\"black\",\"line_dash\":[4,4],\"line_width\":2,\"right_units\":\"screen\",\"syncable\":false,\"top_units\":\"screen\"},\"id\":\"1713\",\"type\":\"BoxAnnotation\"},{\"attributes\":{\"attribution\":\"&copy; <a href=\\\"https://www.openstreetmap.org/copyright\\\">OpenStreetMap</a> contributors\",\"url\":\"https://c.tile.openstreetmap.org/{Z}/{X}/{Y}.png\"},\"id\":\"1749\",\"type\":\"WMTSTileSource\"},{\"attributes\":{},\"id\":\"1736\",\"type\":\"AllLabels\"},{\"attributes\":{\"callback\":null,\"formatters\":{\"$x\":{\"id\":\"1773\"},\"$y\":{\"id\":\"1774\"}},\"renderers\":[{\"id\":\"1763\"}],\"tags\":[\"hv_created\"],\"tooltips\":[[\"Longitude\",\"$x{custom}\"],[\"Latitude\",\"$y{custom}\"],[\"Name\",\"@{Name}\"]]},\"id\":\"1688\",\"type\":\"HoverTool\"},{\"attributes\":{\"axis_label\":\"x\",\"coordinates\":null,\"formatter\":{\"id\":\"1724\"},\"group\":null,\"major_label_policy\":{\"id\":\"1729\"},\"ticker\":{\"id\":\"1723\"}},\"id\":\"1700\",\"type\":\"LinearAxis\"},{\"attributes\":{\"dimension\":\"lat\"},\"id\":\"1725\",\"type\":\"MercatorTicker\"},{\"attributes\":{\"axis\":{\"id\":\"1704\"},\"coordinates\":null,\"dimension\":1,\"grid_line_color\":null,\"group\":null,\"ticker\":null},\"id\":\"1707\",\"type\":\"Grid\"},{\"attributes\":{\"tools\":[{\"id\":\"1688\"},{\"id\":\"1708\"},{\"id\":\"1709\"},{\"id\":\"1710\"},{\"id\":\"1711\"},{\"id\":\"1712\"}]},\"id\":\"1714\",\"type\":\"Toolbar\"},{\"attributes\":{\"label\":{\"field\":\"color\"},\"renderers\":[{\"id\":\"1763\"}]},\"id\":\"1772\",\"type\":\"LegendItem\"},{\"attributes\":{\"dimension\":\"lon\"},\"id\":\"1723\",\"type\":\"MercatorTicker\"},{\"attributes\":{\"axis\":{\"id\":\"1700\"},\"coordinates\":null,\"grid_line_color\":null,\"group\":null,\"ticker\":null},\"id\":\"1703\",\"type\":\"Grid\"},{\"attributes\":{\"fill_alpha\":{\"value\":0.8},\"fill_color\":{\"field\":\"color\",\"transform\":{\"id\":\"1754\"}},\"hatch_alpha\":{\"value\":0.8},\"hatch_color\":{\"field\":\"color\",\"transform\":{\"id\":\"1754\"}},\"line_alpha\":{\"value\":0.8},\"line_color\":{\"field\":\"color\",\"transform\":{\"id\":\"1754\"}},\"size\":{\"value\":5.477225575051661},\"x\":{\"field\":\"Longitude\"},\"y\":{\"field\":\"Latitude\"}},\"id\":\"1760\",\"type\":\"Scatter\"},{\"attributes\":{\"fill_alpha\":{\"value\":0.8},\"fill_color\":{\"field\":\"color\",\"transform\":{\"id\":\"1754\"}},\"hatch_alpha\":{\"value\":0.8},\"hatch_color\":{\"field\":\"color\",\"transform\":{\"id\":\"1754\"}},\"line_alpha\":{\"value\":0.8},\"line_color\":{\"field\":\"color\",\"transform\":{\"id\":\"1754\"}},\"size\":{\"value\":5.477225575051661},\"x\":{\"field\":\"Longitude\"},\"y\":{\"field\":\"Latitude\"}},\"id\":\"1758\",\"type\":\"Scatter\"},{\"attributes\":{\"end\":5002868.404392054,\"min_interval\":5,\"reset_end\":5002868.404392054,\"reset_start\":4932981.895163525,\"start\":4932981.895163525,\"tags\":[[[\"Latitude\",\"Latitude\",null]]]},\"id\":\"1685\",\"type\":\"Range1d\"}],\"root_ids\":[\"1678\"]},\"title\":\"Bokeh Application\",\"version\":\"2.4.3\"}};\n",
       "    var render_items = [{\"docid\":\"a9a9464c-4aff-46d7-8066-9c9a8c983265\",\"root_ids\":[\"1678\"],\"roots\":{\"1678\":\"8742a834-b542-4e8e-a7b4-cf46ab28902a\"}}];\n",
       "    root.Bokeh.embed.embed_items_notebook(docs_json, render_items);\n",
       "  }\n",
       "  if (root.Bokeh !== undefined && root.Bokeh.Panel !== undefined) {\n",
       "    embed_document(root);\n",
       "  } else {\n",
       "    var attempts = 0;\n",
       "    var timer = setInterval(function(root) {\n",
       "      if (root.Bokeh !== undefined && root.Bokeh.Panel !== undefined) {\n",
       "        clearInterval(timer);\n",
       "        embed_document(root);\n",
       "      } else if (document.readyState == \"complete\") {\n",
       "        attempts++;\n",
       "        if (attempts > 200) {\n",
       "          clearInterval(timer);\n",
       "          console.log(\"Bokeh: ERROR: Unable to run BokehJS code because BokehJS library is missing\");\n",
       "        }\n",
       "      }\n",
       "    }, 25, root)\n",
       "  }\n",
       "})(window);</script>"
      ],
      "text/plain": [
       ":Overlay\n",
       "   .Tiles.I  :Tiles   [x,y]\n",
       "   .Points.I :Points   [Longitude,Latitude]   (Name)"
      ]
     },
     "execution_count": 14,
     "metadata": {
      "application/vnd.holoviews_exec.v0+json": {
       "id": "1678"
      }
     },
     "output_type": "execute_result"
    }
   ],
   "source": [
    "# Plot all of the NYC places of interest\n",
    "# Set the color parameter to Borough\n",
    "# Keep all other parameters the same as the previous plot\n",
    "\n",
    "places_of_interest_by_borough = places_of_interest.hvplot.points(\n",
    "    'Longitude',\n",
    "    'Latitude',\n",
    "    geo=True,\n",
    "    color= 'Name',\n",
    "    alpha=0.8,\n",
    "    tiles=\"OSM\",\n",
    "    frame_width=700,\n",
    "    frame_height=500\n",
    "    )\n",
    "\n",
    "\n",
    "# Show the plot\n",
    "places_of_interest_by_borough"
   ]
  },
  {
   "cell_type": "markdown",
   "metadata": {},
   "source": [
    "### Step 5: Plot Parks of Interest"
   ]
  },
  {
   "cell_type": "code",
   "execution_count": 18,
   "metadata": {},
   "outputs": [
    {
     "name": "stderr",
     "output_type": "stream",
     "text": [
      "/Users/a2600/opt/anaconda3/envs/dev/lib/python3.7/site-packages/cartopy/crs.py:245: ShapelyDeprecationWarning: __len__ for multi-part geometries is deprecated and will be removed in Shapely 2.0. Check the length of the `geoms` property instead to get the  number of parts of a multi-part geometry.\n",
      "  if len(multi_line_string) > 1:\n",
      "/Users/a2600/opt/anaconda3/envs/dev/lib/python3.7/site-packages/cartopy/crs.py:297: ShapelyDeprecationWarning: Iteration over multi-part geometries is deprecated and will be removed in Shapely 2.0. Use the `geoms` property to access the constituent parts of a multi-part geometry.\n",
      "  for line in multi_line_string:\n",
      "/Users/a2600/opt/anaconda3/envs/dev/lib/python3.7/site-packages/cartopy/crs.py:364: ShapelyDeprecationWarning: __len__ for multi-part geometries is deprecated and will be removed in Shapely 2.0. Check the length of the `geoms` property instead to get the  number of parts of a multi-part geometry.\n",
      "  if len(p_mline) > 0:\n",
      "/Users/a2600/opt/anaconda3/envs/dev/lib/python3.7/site-packages/cartopy/crs.py:245: ShapelyDeprecationWarning: __len__ for multi-part geometries is deprecated and will be removed in Shapely 2.0. Check the length of the `geoms` property instead to get the  number of parts of a multi-part geometry.\n",
      "  if len(multi_line_string) > 1:\n",
      "/Users/a2600/opt/anaconda3/envs/dev/lib/python3.7/site-packages/cartopy/crs.py:297: ShapelyDeprecationWarning: Iteration over multi-part geometries is deprecated and will be removed in Shapely 2.0. Use the `geoms` property to access the constituent parts of a multi-part geometry.\n",
      "  for line in multi_line_string:\n",
      "/Users/a2600/opt/anaconda3/envs/dev/lib/python3.7/site-packages/cartopy/crs.py:364: ShapelyDeprecationWarning: __len__ for multi-part geometries is deprecated and will be removed in Shapely 2.0. Check the length of the `geoms` property instead to get the  number of parts of a multi-part geometry.\n",
      "  if len(p_mline) > 0:\n",
      "/Users/a2600/opt/anaconda3/envs/dev/lib/python3.7/site-packages/cartopy/crs.py:245: ShapelyDeprecationWarning: __len__ for multi-part geometries is deprecated and will be removed in Shapely 2.0. Check the length of the `geoms` property instead to get the  number of parts of a multi-part geometry.\n",
      "  if len(multi_line_string) > 1:\n",
      "/Users/a2600/opt/anaconda3/envs/dev/lib/python3.7/site-packages/cartopy/crs.py:297: ShapelyDeprecationWarning: Iteration over multi-part geometries is deprecated and will be removed in Shapely 2.0. Use the `geoms` property to access the constituent parts of a multi-part geometry.\n",
      "  for line in multi_line_string:\n",
      "/Users/a2600/opt/anaconda3/envs/dev/lib/python3.7/site-packages/cartopy/crs.py:364: ShapelyDeprecationWarning: __len__ for multi-part geometries is deprecated and will be removed in Shapely 2.0. Check the length of the `geoms` property instead to get the  number of parts of a multi-part geometry.\n",
      "  if len(p_mline) > 0:\n"
     ]
    },
    {
     "data": {},
     "metadata": {},
     "output_type": "display_data"
    },
    {
     "data": {
      "application/vnd.holoviews_exec.v0+json": "",
      "text/html": [
       "<div id='1948'>\n",
       "  <div class=\"bk-root\" id=\"4b54c87c-22f9-4b96-82ce-b0a53ee50113\" data-root-id=\"1948\"></div>\n",
       "</div>\n",
       "<script type=\"application/javascript\">(function(root) {\n",
       "  function embed_document(root) {\n",
       "    var docs_json = {\"e2a30b35-0c04-4db3-9463-1c5f77d8fa5b\":{\"defs\":[{\"extends\":null,\"module\":null,\"name\":\"ReactiveHTML1\",\"overrides\":[],\"properties\":[]},{\"extends\":null,\"module\":null,\"name\":\"FlexBox1\",\"overrides\":[],\"properties\":[{\"default\":\"flex-start\",\"kind\":null,\"name\":\"align_content\"},{\"default\":\"flex-start\",\"kind\":null,\"name\":\"align_items\"},{\"default\":\"row\",\"kind\":null,\"name\":\"flex_direction\"},{\"default\":\"wrap\",\"kind\":null,\"name\":\"flex_wrap\"},{\"default\":\"flex-start\",\"kind\":null,\"name\":\"justify_content\"}]},{\"extends\":null,\"module\":null,\"name\":\"GridStack1\",\"overrides\":[],\"properties\":[{\"default\":\"warn\",\"kind\":null,\"name\":\"mode\"},{\"default\":null,\"kind\":null,\"name\":\"ncols\"},{\"default\":null,\"kind\":null,\"name\":\"nrows\"},{\"default\":true,\"kind\":null,\"name\":\"allow_resize\"},{\"default\":true,\"kind\":null,\"name\":\"allow_drag\"},{\"default\":[],\"kind\":null,\"name\":\"state\"}]},{\"extends\":null,\"module\":null,\"name\":\"click1\",\"overrides\":[],\"properties\":[{\"default\":\"\",\"kind\":null,\"name\":\"terminal_output\"},{\"default\":\"\",\"kind\":null,\"name\":\"debug_name\"},{\"default\":0,\"kind\":null,\"name\":\"clears\"}]},{\"extends\":null,\"module\":null,\"name\":\"NotificationAreaBase1\",\"overrides\":[],\"properties\":[{\"default\":\"bottom-right\",\"kind\":null,\"name\":\"position\"},{\"default\":0,\"kind\":null,\"name\":\"_clear\"}]},{\"extends\":null,\"module\":null,\"name\":\"NotificationArea1\",\"overrides\":[],\"properties\":[{\"default\":[],\"kind\":null,\"name\":\"notifications\"},{\"default\":\"bottom-right\",\"kind\":null,\"name\":\"position\"},{\"default\":0,\"kind\":null,\"name\":\"_clear\"},{\"default\":[{\"background\":\"#ffc107\",\"icon\":{\"className\":\"fas fa-exclamation-triangle\",\"color\":\"white\",\"tagName\":\"i\"},\"type\":\"warning\"},{\"background\":\"#007bff\",\"icon\":{\"className\":\"fas fa-info-circle\",\"color\":\"white\",\"tagName\":\"i\"},\"type\":\"info\"}],\"kind\":null,\"name\":\"types\"}]},{\"extends\":null,\"module\":null,\"name\":\"Notification\",\"overrides\":[],\"properties\":[{\"default\":null,\"kind\":null,\"name\":\"background\"},{\"default\":3000,\"kind\":null,\"name\":\"duration\"},{\"default\":null,\"kind\":null,\"name\":\"icon\"},{\"default\":\"\",\"kind\":null,\"name\":\"message\"},{\"default\":null,\"kind\":null,\"name\":\"notification_type\"},{\"default\":false,\"kind\":null,\"name\":\"_destroyed\"}]},{\"extends\":null,\"module\":null,\"name\":\"TemplateActions1\",\"overrides\":[],\"properties\":[{\"default\":0,\"kind\":null,\"name\":\"open_modal\"},{\"default\":0,\"kind\":null,\"name\":\"close_modal\"}]},{\"extends\":null,\"module\":null,\"name\":\"MaterialTemplateActions1\",\"overrides\":[],\"properties\":[{\"default\":0,\"kind\":null,\"name\":\"open_modal\"},{\"default\":0,\"kind\":null,\"name\":\"close_modal\"}]}],\"roots\":{\"references\":[{\"attributes\":{\"match_aspect\":true,\"overlay\":{\"id\":\"1983\"}},\"id\":\"1981\",\"type\":\"BoxZoomTool\"},{\"attributes\":{},\"id\":\"1966\",\"type\":\"LinearScale\"},{\"attributes\":{\"coordinates\":null,\"group\":null,\"text_color\":\"black\",\"text_font_size\":\"12pt\"},\"id\":\"1962\",\"type\":\"Title\"},{\"attributes\":{\"source\":{\"id\":\"2025\"}},\"id\":\"2034\",\"type\":\"CDSView\"},{\"attributes\":{\"below\":[{\"id\":\"1970\"}],\"center\":[{\"id\":\"1973\"},{\"id\":\"1977\"}],\"frame_height\":500,\"frame_width\":700,\"height\":null,\"left\":[{\"id\":\"1974\"}],\"margin\":[5,5,5,5],\"match_aspect\":true,\"min_border_bottom\":10,\"min_border_left\":10,\"min_border_right\":10,\"min_border_top\":10,\"renderers\":[{\"id\":\"2022\"},{\"id\":\"2033\"}],\"right\":[{\"id\":\"2041\"}],\"sizing_mode\":\"fixed\",\"title\":{\"id\":\"1962\"},\"toolbar\":{\"id\":\"1984\"},\"width\":null,\"x_range\":{\"id\":\"1954\"},\"x_scale\":{\"id\":\"1966\"},\"y_range\":{\"id\":\"1955\"},\"y_scale\":{\"id\":\"1968\"}},\"id\":\"1961\",\"subtype\":\"Figure\",\"type\":\"Plot\"},{\"attributes\":{\"fill_alpha\":{\"value\":0.8},\"fill_color\":{\"field\":\"color\",\"transform\":{\"id\":\"2024\"}},\"hatch_alpha\":{\"value\":0.1},\"hatch_color\":{\"field\":\"color\",\"transform\":{\"id\":\"2024\"}},\"line_alpha\":{\"value\":0.8},\"line_color\":{\"field\":\"color\",\"transform\":{\"id\":\"2024\"}},\"size\":{\"value\":5.477225575051661},\"x\":{\"field\":\"Longitude\"},\"y\":{\"field\":\"Latitude\"}},\"id\":\"2029\",\"type\":\"Scatter\"},{\"attributes\":{},\"id\":\"2038\",\"type\":\"UnionRenderers\"},{\"attributes\":{},\"id\":\"1968\",\"type\":\"LinearScale\"},{\"attributes\":{},\"id\":\"1982\",\"type\":\"ResetTool\"},{\"attributes\":{\"margin\":[5,5,5,5],\"name\":\"HSpacer02470\",\"sizing_mode\":\"stretch_width\"},\"id\":\"1949\",\"type\":\"Spacer\"},{\"attributes\":{\"bottom_units\":\"screen\",\"coordinates\":null,\"fill_alpha\":0.5,\"fill_color\":\"lightgrey\",\"group\":null,\"left_units\":\"screen\",\"level\":\"overlay\",\"line_alpha\":1.0,\"line_color\":\"black\",\"line_dash\":[4,4],\"line_width\":2,\"right_units\":\"screen\",\"syncable\":false,\"top_units\":\"screen\"},\"id\":\"1983\",\"type\":\"BoxAnnotation\"},{\"attributes\":{\"end\":5002868.404392054,\"min_interval\":5,\"reset_end\":5002868.404392054,\"reset_start\":4932981.895163525,\"start\":4932981.895163525,\"tags\":[[[\"Latitude\",\"Latitude\",null]]]},\"id\":\"1955\",\"type\":\"Range1d\"},{\"attributes\":{},\"id\":\"2006\",\"type\":\"AllLabels\"},{\"attributes\":{\"callback\":null,\"formatters\":{\"$x\":{\"id\":\"2043\"},\"$y\":{\"id\":\"2044\"}},\"renderers\":[{\"id\":\"2033\"}],\"tags\":[\"hv_created\"],\"tooltips\":[[\"Longitude\",\"$x{custom}\"],[\"Latitude\",\"$y{custom}\"],[\"Name\",\"@{Name}\"]]},\"id\":\"1958\",\"type\":\"HoverTool\"},{\"attributes\":{\"code\":\"\\n        var projections = Bokeh.require(\\\"core/util/projections\\\");\\n        var x = special_vars.data_x\\n        var y = special_vars.data_y\\n        if (projections.wgs84_mercator.invert == null) {\\n          var coords = projections.wgs84_mercator.inverse([x, y])\\n        } else {\\n          var coords = projections.wgs84_mercator.invert(x, y)\\n        }\\n        return \\\"\\\" + (coords[1]).toFixed(4)\\n    \"},\"id\":\"2044\",\"type\":\"CustomJSHover\"},{\"attributes\":{\"axis_label\":\"x\",\"coordinates\":null,\"formatter\":{\"id\":\"1994\"},\"group\":null,\"major_label_policy\":{\"id\":\"1999\"},\"ticker\":{\"id\":\"1993\"}},\"id\":\"1970\",\"type\":\"LinearAxis\"},{\"attributes\":{\"dimension\":\"lat\"},\"id\":\"1995\",\"type\":\"MercatorTicker\"},{\"attributes\":{\"axis\":{\"id\":\"1974\"},\"coordinates\":null,\"dimension\":1,\"grid_line_color\":null,\"group\":null,\"ticker\":null},\"id\":\"1977\",\"type\":\"Grid\"},{\"attributes\":{\"code\":\"\\n        var projections = Bokeh.require(\\\"core/util/projections\\\");\\n        var x = special_vars.data_x\\n        var y = special_vars.data_y\\n        if (projections.wgs84_mercator.invert == null) {\\n          var coords = projections.wgs84_mercator.inverse([x, y])\\n        } else {\\n          var coords = projections.wgs84_mercator.invert(x, y)\\n        }\\n        return \\\"\\\" + (coords[0]).toFixed(4)\\n    \"},\"id\":\"2043\",\"type\":\"CustomJSHover\"},{\"attributes\":{\"click_policy\":\"mute\",\"coordinates\":null,\"group\":null,\"items\":[{\"id\":\"2042\"}],\"location\":[0,0]},\"id\":\"2041\",\"type\":\"Legend\"},{\"attributes\":{\"fill_alpha\":{\"value\":0.2},\"fill_color\":{\"field\":\"color\",\"transform\":{\"id\":\"2024\"}},\"hatch_alpha\":{\"value\":0.2},\"hatch_color\":{\"field\":\"color\",\"transform\":{\"id\":\"2024\"}},\"line_alpha\":{\"value\":0.2},\"line_color\":{\"field\":\"color\",\"transform\":{\"id\":\"2024\"}},\"size\":{\"value\":5.477225575051661},\"x\":{\"field\":\"Longitude\"},\"y\":{\"field\":\"Latitude\"}},\"id\":\"2032\",\"type\":\"Scatter\"},{\"attributes\":{\"axis\":{\"id\":\"1970\"},\"coordinates\":null,\"grid_line_color\":null,\"group\":null,\"ticker\":null},\"id\":\"1973\",\"type\":\"Grid\"},{\"attributes\":{\"factors\":[\"Van Cortlandt Park\",\"Seton Falls Park\",\"Pelham Bay Park\",\"Bronx Park\",\"Ferry Point Park\",\"Sound View Park\",\"Crotona Park\",\"Zoo/Wildlife Conser. Park\",\"Saint Mary's Park\",\"Fort Tryon Park\",\"Marcus Garvey Park\",\"Randall's Island Park\",\"Ward's Island Park\",\"Central Park\",\"McCarren Park\",\"Astoria Park\",\"Prospect Park\",\"Owls Head Park\",\"Dyker Beach Park\",\"Marine Park\",\"Canarsie Beach Park\",\"Brookville Park\",\"Baisley Pond Park\",\"Roy Wilkins Park\",\"Juniper Valley Park\",\"Cunningham Park\",\"Clearview Park\",\"Crocheron Park\",\"Alley Pond Park\",\"Douglaston Park\",\"Jacob Riis Park\",\"Silver Lake Park\",\"Clove Lakes Park\",\"Great Kills Park\",\"LaTourette Park\",\"Willowbrook Park\",\"Blue Heron Park\",\"Wolfe's Pond Park\",\"Conference House Park\",\"Calvert Vaux\",\"High Rock Park\",\"Red Hook Park\",\"Riverdale Park\",\"Spring Creek Park Preserve No Access\",\"Spring Creek Park Gateway National Recreation Area\"],\"palette\":[\"#1f77b3\",\"#ff7e0e\",\"#2ba02b\",\"#d62628\",\"#9367bc\",\"#8c564b\",\"#e277c1\",\"#7e7e7e\",\"#bcbc21\",\"#16bdcf\",\"#3a0182\",\"#004201\",\"#0fffa8\",\"#5d003f\",\"#bcbcff\",\"#d8afa1\",\"#b80080\",\"#004d52\",\"#6b6400\",\"#7c0100\",\"#6026ff\",\"#ffff9a\",\"#564964\",\"#8cb893\",\"#93fbff\",\"#018267\",\"#90ff00\",\"#8200a0\",\"#ac8944\",\"#5b3400\",\"#ffbff2\",\"#ff6e75\",\"#798cff\",\"#dd00ff\",\"#505646\",\"#004489\",\"#ffbf60\",\"#ff018c\",\"#bdc8cf\",\"#af97b5\",\"#b65600\",\"#017000\",\"#cd87ff\",\"#1cd646\",\"#bfebc3\"]},\"id\":\"2024\",\"type\":\"CategoricalColorMapper\"},{\"attributes\":{\"axis_label\":\"y\",\"coordinates\":null,\"formatter\":{\"id\":\"1996\"},\"group\":null,\"major_label_policy\":{\"id\":\"2006\"},\"ticker\":{\"id\":\"1995\"}},\"id\":\"1974\",\"type\":\"LinearAxis\"},{\"attributes\":{\"coordinates\":null,\"group\":null,\"level\":\"glyph\",\"tile_source\":{\"id\":\"2019\"}},\"id\":\"2022\",\"type\":\"TileRenderer\"},{\"attributes\":{\"zoom_on_axis\":false},\"id\":\"1980\",\"type\":\"WheelZoomTool\"},{\"attributes\":{\"label\":{\"field\":\"color\"},\"renderers\":[{\"id\":\"2033\"}]},\"id\":\"2042\",\"type\":\"LegendItem\"},{\"attributes\":{\"attribution\":\"&copy; <a href=\\\"https://www.openstreetmap.org/copyright\\\">OpenStreetMap</a> contributors\",\"url\":\"https://c.tile.openstreetmap.org/{Z}/{X}/{Y}.png\"},\"id\":\"2019\",\"type\":\"WMTSTileSource\"},{\"attributes\":{\"coordinates\":null,\"data_source\":{\"id\":\"2025\"},\"glyph\":{\"id\":\"2028\"},\"group\":null,\"hover_glyph\":{\"id\":\"2031\"},\"muted_glyph\":{\"id\":\"2032\"},\"nonselection_glyph\":{\"id\":\"2029\"},\"selection_glyph\":{\"id\":\"2030\"},\"view\":{\"id\":\"2034\"}},\"id\":\"2033\",\"type\":\"GlyphRenderer\"},{\"attributes\":{\"tools\":[{\"id\":\"1958\"},{\"id\":\"1978\"},{\"id\":\"1979\"},{\"id\":\"1980\"},{\"id\":\"1981\"},{\"id\":\"1982\"}]},\"id\":\"1984\",\"type\":\"Toolbar\"},{\"attributes\":{\"data\":{\"Latitude\":{\"__ndarray__\":\"1cxBK+0PU0HBEQzVmA5TQVxDy0tODVNBZxYfoBMKU0Gw21nzKARTQfHw925RBFNBHT83h6AHU0HEPWjhIwlTQSEJq4K/A1NB1oeFciYLU0E2n8zEmAJTQWY2bGSDAVNBNgXi4df/UkFG10dTpP9SQXLH+Uu/9lJBEgHkh8T+UkEGDhf6Me5SQQOrS/ck61JBpW3dIBDnUkH9GT8j5+VSQRrpizkS6VJB86uOP9vsUkHMHM436u9SQWvGhT0E8lJBuawjOav2UkF2Wbv56fdSQUcimJiZ/1JBitHN+fv9UkEYG9FzcvtSQdo8Enoo+1JB6ynP79LgUkEwHls8VOlSQbR1qMkD6FJBpgCA8wreUkFC4KPq3eJSQbBwHZ+C5VJB5WLTYpXbUkGMYLAQOdpSQStx+GcN11JB+DGL60jjUkF9p3dSDeRSQa4HRBm+71JBrrSxbV0PU0Ev0DQ6/OtSQRiBvh8O7FJB\",\"dtype\":\"float64\",\"order\":\"little\",\"shape\":[45]},\"Longitude\":{\"__ndarray__\":\"MMxcTIBgX8GRJwcBCFtfwYWWvWflV1/BzX/V7R5fX8G1PV23ZlpfwTbGXiytXl/Bkhwb/xJhX8GtiwZ1Al9fwXxaVdL6Yl/BqWqxcCtlX8EfPlliV2ZfwV6DY3wPZF/B9xEPw/VkX8Flx03K1mhfwTyi+jlaZ1/Bjfrw/lZkX8HCEcpDNmlfwXmkv7gVcF/BvS3t9bJuX8G+ugXoUWRfwaOD+/F+YV/BIrx2bKdRX8EZU7d6aFVfwR63JwvKU1/BC8BDwnxfX8FOW3y5dlNfweB126+eVV/Bt40A1nVTX8GIL8mxxVBfwR6VECl4T1/BOArcxpxeX8E+96Fg23ZfwR+hPlGbeF/ByKy/KTp6X8HwGwNxEHxfwWNVeo/GfV/Bw5t0q6J/X8FgB3jcfYFfwSJRGhqYh1/BA2obH+NrX8EJiYfMEHlfwfKhhxwtbV/BHtnD8YdjX8Emb1oW5l1fwWuBNv+iW1/B\",\"dtype\":\"float64\",\"order\":\"little\",\"shape\":[45]},\"Name\":[\"Van Cortlandt Park\",\"Seton Falls Park\",\"Pelham Bay Park\",\"Bronx Park\",\"Ferry Point Park\",\"Sound View Park\",\"Crotona Park\",\"Zoo/Wildlife Conser. Park\",\"Saint Mary's Park\",\"Fort Tryon Park\",\"Marcus Garvey Park\",\"Randall's Island Park\",\"Ward's Island Park\",\"Central Park\",\"McCarren Park\",\"Astoria Park\",\"Prospect Park\",\"Owls Head Park\",\"Dyker Beach Park\",\"Marine Park\",\"Canarsie Beach Park\",\"Brookville Park\",\"Baisley Pond Park\",\"Roy Wilkins Park\",\"Juniper Valley Park\",\"Cunningham Park\",\"Clearview Park\",\"Crocheron Park\",\"Alley Pond Park\",\"Douglaston Park\",\"Jacob Riis Park\",\"Silver Lake Park\",\"Clove Lakes Park\",\"Great Kills Park\",\"LaTourette Park\",\"Willowbrook Park\",\"Blue Heron Park\",\"Wolfe's Pond Park\",\"Conference House Park\",\"Calvert Vaux\",\"High Rock Park\",\"Red Hook Park\",\"Riverdale Park\",\"Spring Creek Park Preserve No Access\",\"Spring Creek Park Gateway National Recreation Area\"],\"color\":[\"Van Cortlandt Park\",\"Seton Falls Park\",\"Pelham Bay Park\",\"Bronx Park\",\"Ferry Point Park\",\"Sound View Park\",\"Crotona Park\",\"Zoo/Wildlife Conser. Park\",\"Saint Mary's Park\",\"Fort Tryon Park\",\"Marcus Garvey Park\",\"Randall's Island Park\",\"Ward's Island Park\",\"Central Park\",\"McCarren Park\",\"Astoria Park\",\"Prospect Park\",\"Owls Head Park\",\"Dyker Beach Park\",\"Marine Park\",\"Canarsie Beach Park\",\"Brookville Park\",\"Baisley Pond Park\",\"Roy Wilkins Park\",\"Juniper Valley Park\",\"Cunningham Park\",\"Clearview Park\",\"Crocheron Park\",\"Alley Pond Park\",\"Douglaston Park\",\"Jacob Riis Park\",\"Silver Lake Park\",\"Clove Lakes Park\",\"Great Kills Park\",\"LaTourette Park\",\"Willowbrook Park\",\"Blue Heron Park\",\"Wolfe's Pond Park\",\"Conference House Park\",\"Calvert Vaux\",\"High Rock Park\",\"Red Hook Park\",\"Riverdale Park\",\"Spring Creek Park Preserve No Access\",\"Spring Creek Park Gateway National Recreation Area\"]},\"selected\":{\"id\":\"2026\"},\"selection_policy\":{\"id\":\"2038\"}},\"id\":\"2025\",\"type\":\"ColumnDataSource\"},{\"attributes\":{\"margin\":[5,5,5,5],\"name\":\"HSpacer02471\",\"sizing_mode\":\"stretch_width\"},\"id\":\"2051\",\"type\":\"Spacer\"},{\"attributes\":{\"end\":-8187655.96828672,\"min_interval\":5,\"reset_end\":-8187655.96828672,\"reset_start\":-8285497.081206661,\"start\":-8285497.081206661,\"tags\":[[[\"Longitude\",\"Longitude\",null]]]},\"id\":\"1954\",\"type\":\"Range1d\"},{\"attributes\":{\"fill_alpha\":{\"value\":0.8},\"fill_color\":{\"field\":\"color\",\"transform\":{\"id\":\"2024\"}},\"hatch_alpha\":{\"value\":0.8},\"hatch_color\":{\"field\":\"color\",\"transform\":{\"id\":\"2024\"}},\"line_alpha\":{\"value\":0.8},\"line_color\":{\"field\":\"color\",\"transform\":{\"id\":\"2024\"}},\"size\":{\"value\":5.477225575051661},\"x\":{\"field\":\"Longitude\"},\"y\":{\"field\":\"Latitude\"}},\"id\":\"2031\",\"type\":\"Scatter\"},{\"attributes\":{},\"id\":\"1999\",\"type\":\"AllLabels\"},{\"attributes\":{\"fill_alpha\":{\"value\":0.8},\"fill_color\":{\"field\":\"color\",\"transform\":{\"id\":\"2024\"}},\"hatch_alpha\":{\"value\":0.8},\"hatch_color\":{\"field\":\"color\",\"transform\":{\"id\":\"2024\"}},\"line_alpha\":{\"value\":0.8},\"line_color\":{\"field\":\"color\",\"transform\":{\"id\":\"2024\"}},\"size\":{\"value\":5.477225575051661},\"x\":{\"field\":\"Longitude\"},\"y\":{\"field\":\"Latitude\"}},\"id\":\"2028\",\"type\":\"Scatter\"},{\"attributes\":{\"dimension\":\"lat\"},\"id\":\"1996\",\"type\":\"MercatorTickFormatter\"},{\"attributes\":{},\"id\":\"1978\",\"type\":\"SaveTool\"},{\"attributes\":{},\"id\":\"1979\",\"type\":\"PanTool\"},{\"attributes\":{\"dimension\":\"lon\"},\"id\":\"1994\",\"type\":\"MercatorTickFormatter\"},{\"attributes\":{\"dimension\":\"lon\"},\"id\":\"1993\",\"type\":\"MercatorTicker\"},{\"attributes\":{},\"id\":\"2026\",\"type\":\"Selection\"},{\"attributes\":{\"fill_alpha\":{\"value\":0.8},\"fill_color\":{\"field\":\"color\",\"transform\":{\"id\":\"2024\"}},\"hatch_alpha\":{\"value\":0.8},\"hatch_color\":{\"field\":\"color\",\"transform\":{\"id\":\"2024\"}},\"line_alpha\":{\"value\":0.8},\"line_color\":{\"field\":\"color\",\"transform\":{\"id\":\"2024\"}},\"size\":{\"value\":5.477225575051661},\"x\":{\"field\":\"Longitude\"},\"y\":{\"field\":\"Latitude\"}},\"id\":\"2030\",\"type\":\"Scatter\"},{\"attributes\":{\"children\":[{\"id\":\"1949\"},{\"id\":\"1961\"},{\"id\":\"2051\"}],\"margin\":[0,0,0,0],\"name\":\"Row02466\",\"tags\":[\"embedded\"]},\"id\":\"1948\",\"type\":\"Row\"}],\"root_ids\":[\"1948\"]},\"title\":\"Bokeh Application\",\"version\":\"2.4.3\"}};\n",
       "    var render_items = [{\"docid\":\"e2a30b35-0c04-4db3-9463-1c5f77d8fa5b\",\"root_ids\":[\"1948\"],\"roots\":{\"1948\":\"4b54c87c-22f9-4b96-82ce-b0a53ee50113\"}}];\n",
       "    root.Bokeh.embed.embed_items_notebook(docs_json, render_items);\n",
       "  }\n",
       "  if (root.Bokeh !== undefined && root.Bokeh.Panel !== undefined) {\n",
       "    embed_document(root);\n",
       "  } else {\n",
       "    var attempts = 0;\n",
       "    var timer = setInterval(function(root) {\n",
       "      if (root.Bokeh !== undefined && root.Bokeh.Panel !== undefined) {\n",
       "        clearInterval(timer);\n",
       "        embed_document(root);\n",
       "      } else if (document.readyState == \"complete\") {\n",
       "        attempts++;\n",
       "        if (attempts > 200) {\n",
       "          clearInterval(timer);\n",
       "          console.log(\"Bokeh: ERROR: Unable to run BokehJS code because BokehJS library is missing\");\n",
       "        }\n",
       "      }\n",
       "    }, 25, root)\n",
       "  }\n",
       "})(window);</script>"
      ],
      "text/plain": [
       ":Overlay\n",
       "   .Tiles.I  :Tiles   [x,y]\n",
       "   .Points.I :Points   [Longitude,Latitude]   (Name)"
      ]
     },
     "execution_count": 18,
     "metadata": {
      "application/vnd.holoviews_exec.v0+json": {
       "id": "1948"
      }
     },
     "output_type": "execute_result"
    }
   ],
   "source": [
    "# Create a DataFrame that slices the places_of_intereset DataFrame to include only parks\n",
    "parks = places_of_interest[places_of_interest['PlaceType']==\"Park\"]\n",
    "\n",
    "# Plot all of the parks in NYC\n",
    "parks_plot = parks.hvplot.points(\n",
    "    'Longitude',\n",
    "    'Latitude',\n",
    "    geo=True,\n",
    "    color= 'Name',\n",
    "    alpha=0.8,\n",
    "    tiles=\"OSM\",\n",
    "    frame_width=700,\n",
    "    frame_height=500\n",
    "    )\n",
    "\n",
    "\n",
    "# Keep all other parameters the same as the previous plot\n",
    "#parks_of_interest = # YOUR CODE HERE\n",
    "\n",
    "# Show the plot\n",
    "parks_plot"
   ]
  },
  {
   "cell_type": "markdown",
   "metadata": {},
   "source": [
    "### Step 6: Plot Gardens of Interest"
   ]
  },
  {
   "cell_type": "code",
   "execution_count": null,
   "metadata": {},
   "outputs": [],
   "source": [
    "# Create a DataFrame that slices the places_of_intereset DataFrame to include only gardens\n",
    "gardens = # YOUR CODE HERE\n",
    "\n",
    "# Plot all of the gardens in NYC\n",
    "# Keep all other parameters the same as the previous plot\n",
    "gardens_of_interest = # YOUR CODE HERE\n",
    "\n",
    "# Show the plot\n",
    "gardens_of_interest"
   ]
  },
  {
   "cell_type": "markdown",
   "metadata": {},
   "source": [
    "### Step 7: Plot Squares of Interest"
   ]
  },
  {
   "cell_type": "code",
   "execution_count": null,
   "metadata": {},
   "outputs": [],
   "source": [
    "# Create a DataFrame that slices the places_of_intereset DataFrame to include only squares\n",
    "squares = # YOUR CODE HERE\n",
    "\n",
    "# Plot all of the squares in NYC\n",
    "squares_of_interest = # YOUR CODE HERE\n",
    "\n",
    "# Show the plot\n",
    "# YOUR CODE HERE"
   ]
  },
  {
   "cell_type": "markdown",
   "metadata": {},
   "source": [
    "### Step 8: Bonus - Pick two place of interest and plot them both on a the map"
   ]
  },
  {
   "cell_type": "code",
   "execution_count": 19,
   "metadata": {},
   "outputs": [
    {
     "name": "stderr",
     "output_type": "stream",
     "text": [
      "/Users/a2600/opt/anaconda3/envs/dev/lib/python3.7/site-packages/cartopy/crs.py:245: ShapelyDeprecationWarning: __len__ for multi-part geometries is deprecated and will be removed in Shapely 2.0. Check the length of the `geoms` property instead to get the  number of parts of a multi-part geometry.\n",
      "  if len(multi_line_string) > 1:\n",
      "/Users/a2600/opt/anaconda3/envs/dev/lib/python3.7/site-packages/cartopy/crs.py:297: ShapelyDeprecationWarning: Iteration over multi-part geometries is deprecated and will be removed in Shapely 2.0. Use the `geoms` property to access the constituent parts of a multi-part geometry.\n",
      "  for line in multi_line_string:\n",
      "/Users/a2600/opt/anaconda3/envs/dev/lib/python3.7/site-packages/cartopy/crs.py:364: ShapelyDeprecationWarning: __len__ for multi-part geometries is deprecated and will be removed in Shapely 2.0. Check the length of the `geoms` property instead to get the  number of parts of a multi-part geometry.\n",
      "  if len(p_mline) > 0:\n",
      "/Users/a2600/opt/anaconda3/envs/dev/lib/python3.7/site-packages/cartopy/crs.py:245: ShapelyDeprecationWarning: __len__ for multi-part geometries is deprecated and will be removed in Shapely 2.0. Check the length of the `geoms` property instead to get the  number of parts of a multi-part geometry.\n",
      "  if len(multi_line_string) > 1:\n",
      "/Users/a2600/opt/anaconda3/envs/dev/lib/python3.7/site-packages/cartopy/crs.py:297: ShapelyDeprecationWarning: Iteration over multi-part geometries is deprecated and will be removed in Shapely 2.0. Use the `geoms` property to access the constituent parts of a multi-part geometry.\n",
      "  for line in multi_line_string:\n",
      "/Users/a2600/opt/anaconda3/envs/dev/lib/python3.7/site-packages/cartopy/crs.py:364: ShapelyDeprecationWarning: __len__ for multi-part geometries is deprecated and will be removed in Shapely 2.0. Check the length of the `geoms` property instead to get the  number of parts of a multi-part geometry.\n",
      "  if len(p_mline) > 0:\n",
      "/Users/a2600/opt/anaconda3/envs/dev/lib/python3.7/site-packages/cartopy/crs.py:245: ShapelyDeprecationWarning: __len__ for multi-part geometries is deprecated and will be removed in Shapely 2.0. Check the length of the `geoms` property instead to get the  number of parts of a multi-part geometry.\n",
      "  if len(multi_line_string) > 1:\n",
      "/Users/a2600/opt/anaconda3/envs/dev/lib/python3.7/site-packages/cartopy/crs.py:297: ShapelyDeprecationWarning: Iteration over multi-part geometries is deprecated and will be removed in Shapely 2.0. Use the `geoms` property to access the constituent parts of a multi-part geometry.\n",
      "  for line in multi_line_string:\n",
      "/Users/a2600/opt/anaconda3/envs/dev/lib/python3.7/site-packages/cartopy/crs.py:364: ShapelyDeprecationWarning: __len__ for multi-part geometries is deprecated and will be removed in Shapely 2.0. Check the length of the `geoms` property instead to get the  number of parts of a multi-part geometry.\n",
      "  if len(p_mline) > 0:\n"
     ]
    },
    {
     "data": {},
     "metadata": {},
     "output_type": "display_data"
    },
    {
     "data": {
      "application/vnd.holoviews_exec.v0+json": "",
      "text/html": [
       "<div id='2083'>\n",
       "  <div class=\"bk-root\" id=\"4f4b7857-bd28-40be-9330-f691a24972f6\" data-root-id=\"2083\"></div>\n",
       "</div>\n",
       "<script type=\"application/javascript\">(function(root) {\n",
       "  function embed_document(root) {\n",
       "    var docs_json = {\"5e70875e-d1b0-4f0a-babf-d9f49da291ef\":{\"defs\":[{\"extends\":null,\"module\":null,\"name\":\"ReactiveHTML1\",\"overrides\":[],\"properties\":[]},{\"extends\":null,\"module\":null,\"name\":\"FlexBox1\",\"overrides\":[],\"properties\":[{\"default\":\"flex-start\",\"kind\":null,\"name\":\"align_content\"},{\"default\":\"flex-start\",\"kind\":null,\"name\":\"align_items\"},{\"default\":\"row\",\"kind\":null,\"name\":\"flex_direction\"},{\"default\":\"wrap\",\"kind\":null,\"name\":\"flex_wrap\"},{\"default\":\"flex-start\",\"kind\":null,\"name\":\"justify_content\"}]},{\"extends\":null,\"module\":null,\"name\":\"GridStack1\",\"overrides\":[],\"properties\":[{\"default\":\"warn\",\"kind\":null,\"name\":\"mode\"},{\"default\":null,\"kind\":null,\"name\":\"ncols\"},{\"default\":null,\"kind\":null,\"name\":\"nrows\"},{\"default\":true,\"kind\":null,\"name\":\"allow_resize\"},{\"default\":true,\"kind\":null,\"name\":\"allow_drag\"},{\"default\":[],\"kind\":null,\"name\":\"state\"}]},{\"extends\":null,\"module\":null,\"name\":\"click1\",\"overrides\":[],\"properties\":[{\"default\":\"\",\"kind\":null,\"name\":\"terminal_output\"},{\"default\":\"\",\"kind\":null,\"name\":\"debug_name\"},{\"default\":0,\"kind\":null,\"name\":\"clears\"}]},{\"extends\":null,\"module\":null,\"name\":\"NotificationAreaBase1\",\"overrides\":[],\"properties\":[{\"default\":\"bottom-right\",\"kind\":null,\"name\":\"position\"},{\"default\":0,\"kind\":null,\"name\":\"_clear\"}]},{\"extends\":null,\"module\":null,\"name\":\"NotificationArea1\",\"overrides\":[],\"properties\":[{\"default\":[],\"kind\":null,\"name\":\"notifications\"},{\"default\":\"bottom-right\",\"kind\":null,\"name\":\"position\"},{\"default\":0,\"kind\":null,\"name\":\"_clear\"},{\"default\":[{\"background\":\"#ffc107\",\"icon\":{\"className\":\"fas fa-exclamation-triangle\",\"color\":\"white\",\"tagName\":\"i\"},\"type\":\"warning\"},{\"background\":\"#007bff\",\"icon\":{\"className\":\"fas fa-info-circle\",\"color\":\"white\",\"tagName\":\"i\"},\"type\":\"info\"}],\"kind\":null,\"name\":\"types\"}]},{\"extends\":null,\"module\":null,\"name\":\"Notification\",\"overrides\":[],\"properties\":[{\"default\":null,\"kind\":null,\"name\":\"background\"},{\"default\":3000,\"kind\":null,\"name\":\"duration\"},{\"default\":null,\"kind\":null,\"name\":\"icon\"},{\"default\":\"\",\"kind\":null,\"name\":\"message\"},{\"default\":null,\"kind\":null,\"name\":\"notification_type\"},{\"default\":false,\"kind\":null,\"name\":\"_destroyed\"}]},{\"extends\":null,\"module\":null,\"name\":\"TemplateActions1\",\"overrides\":[],\"properties\":[{\"default\":0,\"kind\":null,\"name\":\"open_modal\"},{\"default\":0,\"kind\":null,\"name\":\"close_modal\"}]},{\"extends\":null,\"module\":null,\"name\":\"MaterialTemplateActions1\",\"overrides\":[],\"properties\":[{\"default\":0,\"kind\":null,\"name\":\"open_modal\"},{\"default\":0,\"kind\":null,\"name\":\"close_modal\"}]}],\"roots\":{\"references\":[{\"attributes\":{\"fill_alpha\":{\"value\":0.8},\"fill_color\":{\"field\":\"color\",\"transform\":{\"id\":\"2159\"}},\"hatch_alpha\":{\"value\":0.8},\"hatch_color\":{\"field\":\"color\",\"transform\":{\"id\":\"2159\"}},\"line_alpha\":{\"value\":0.8},\"line_color\":{\"field\":\"color\",\"transform\":{\"id\":\"2159\"}},\"size\":{\"value\":5.477225575051661},\"x\":{\"field\":\"Longitude\"},\"y\":{\"field\":\"Latitude\"}},\"id\":\"2165\",\"type\":\"Scatter\"},{\"attributes\":{\"callback\":null,\"formatters\":{\"$x\":{\"id\":\"2178\"},\"$y\":{\"id\":\"2179\"}},\"renderers\":[{\"id\":\"2168\"}],\"tags\":[\"hv_created\"],\"tooltips\":[[\"Longitude\",\"$x{custom}\"],[\"Latitude\",\"$y{custom}\"],[\"Name\",\"@{Name}\"]]},\"id\":\"2093\",\"type\":\"HoverTool\"},{\"attributes\":{\"axis\":{\"id\":\"2109\"},\"coordinates\":null,\"dimension\":1,\"grid_line_color\":null,\"group\":null,\"ticker\":null},\"id\":\"2112\",\"type\":\"Grid\"},{\"attributes\":{\"children\":[{\"id\":\"2084\"},{\"id\":\"2096\"},{\"id\":\"2186\"}],\"margin\":[0,0,0,0],\"name\":\"Row02593\",\"tags\":[\"embedded\"]},\"id\":\"2083\",\"type\":\"Row\"},{\"attributes\":{\"axis_label\":\"y\",\"coordinates\":null,\"formatter\":{\"id\":\"2131\"},\"group\":null,\"major_label_policy\":{\"id\":\"2141\"},\"ticker\":{\"id\":\"2130\"}},\"id\":\"2109\",\"type\":\"LinearAxis\"},{\"attributes\":{\"fill_alpha\":{\"value\":0.8},\"fill_color\":{\"field\":\"color\",\"transform\":{\"id\":\"2159\"}},\"hatch_alpha\":{\"value\":0.8},\"hatch_color\":{\"field\":\"color\",\"transform\":{\"id\":\"2159\"}},\"line_alpha\":{\"value\":0.8},\"line_color\":{\"field\":\"color\",\"transform\":{\"id\":\"2159\"}},\"size\":{\"value\":5.477225575051661},\"x\":{\"field\":\"Longitude\"},\"y\":{\"field\":\"Latitude\"}},\"id\":\"2163\",\"type\":\"Scatter\"},{\"attributes\":{\"coordinates\":null,\"group\":null,\"level\":\"glyph\",\"tile_source\":{\"id\":\"2154\"}},\"id\":\"2157\",\"type\":\"TileRenderer\"},{\"attributes\":{\"tools\":[{\"id\":\"2093\"},{\"id\":\"2113\"},{\"id\":\"2114\"},{\"id\":\"2115\"},{\"id\":\"2116\"},{\"id\":\"2117\"}]},\"id\":\"2119\",\"type\":\"Toolbar\"},{\"attributes\":{\"fill_alpha\":{\"value\":0.8},\"fill_color\":{\"field\":\"color\",\"transform\":{\"id\":\"2159\"}},\"hatch_alpha\":{\"value\":0.1},\"hatch_color\":{\"field\":\"color\",\"transform\":{\"id\":\"2159\"}},\"line_alpha\":{\"value\":0.8},\"line_color\":{\"field\":\"color\",\"transform\":{\"id\":\"2159\"}},\"size\":{\"value\":5.477225575051661},\"x\":{\"field\":\"Longitude\"},\"y\":{\"field\":\"Latitude\"}},\"id\":\"2164\",\"type\":\"Scatter\"},{\"attributes\":{\"code\":\"\\n        var projections = Bokeh.require(\\\"core/util/projections\\\");\\n        var x = special_vars.data_x\\n        var y = special_vars.data_y\\n        if (projections.wgs84_mercator.invert == null) {\\n          var coords = projections.wgs84_mercator.inverse([x, y])\\n        } else {\\n          var coords = projections.wgs84_mercator.invert(x, y)\\n        }\\n        return \\\"\\\" + (coords[1]).toFixed(4)\\n    \"},\"id\":\"2179\",\"type\":\"CustomJSHover\"},{\"attributes\":{\"attribution\":\"&copy; <a href=\\\"https://www.openstreetmap.org/copyright\\\">OpenStreetMap</a> contributors\",\"url\":\"https://c.tile.openstreetmap.org/{Z}/{X}/{Y}.png\"},\"id\":\"2154\",\"type\":\"WMTSTileSource\"},{\"attributes\":{\"fill_alpha\":{\"value\":0.2},\"fill_color\":{\"field\":\"color\",\"transform\":{\"id\":\"2159\"}},\"hatch_alpha\":{\"value\":0.2},\"hatch_color\":{\"field\":\"color\",\"transform\":{\"id\":\"2159\"}},\"line_alpha\":{\"value\":0.2},\"line_color\":{\"field\":\"color\",\"transform\":{\"id\":\"2159\"}},\"size\":{\"value\":5.477225575051661},\"x\":{\"field\":\"Longitude\"},\"y\":{\"field\":\"Latitude\"}},\"id\":\"2167\",\"type\":\"Scatter\"},{\"attributes\":{},\"id\":\"2141\",\"type\":\"AllLabels\"},{\"attributes\":{},\"id\":\"2134\",\"type\":\"AllLabels\"},{\"attributes\":{\"end\":4995544.097656774,\"min_interval\":5,\"reset_end\":4995544.097656774,\"reset_start\":4957390.129367023,\"start\":4957390.129367023,\"tags\":[[[\"Latitude\",\"Latitude\",null]]]},\"id\":\"2090\",\"type\":\"Range1d\"},{\"attributes\":{\"dimension\":\"lat\"},\"id\":\"2131\",\"type\":\"MercatorTickFormatter\"},{\"attributes\":{\"factors\":[\"Botanical Garden\",\"John F. Kennedy International Airport\",\"LaGuardia Airport\"],\"palette\":[\"#1f77b3\",\"#ff7e0e\",\"#2ba02b\"]},\"id\":\"2159\",\"type\":\"CategoricalColorMapper\"},{\"attributes\":{},\"id\":\"2113\",\"type\":\"SaveTool\"},{\"attributes\":{},\"id\":\"2173\",\"type\":\"UnionRenderers\"},{\"attributes\":{},\"id\":\"2101\",\"type\":\"LinearScale\"},{\"attributes\":{},\"id\":\"2114\",\"type\":\"PanTool\"},{\"attributes\":{\"end\":-8192249.94118624,\"min_interval\":5,\"reset_end\":-8192249.94118624,\"reset_start\":-8245665.496791893,\"start\":-8245665.496791893,\"tags\":[[[\"Longitude\",\"Longitude\",null]]]},\"id\":\"2089\",\"type\":\"Range1d\"},{\"attributes\":{\"zoom_on_axis\":false},\"id\":\"2115\",\"type\":\"WheelZoomTool\"},{\"attributes\":{\"match_aspect\":true,\"overlay\":{\"id\":\"2118\"}},\"id\":\"2116\",\"type\":\"BoxZoomTool\"},{\"attributes\":{},\"id\":\"2103\",\"type\":\"LinearScale\"},{\"attributes\":{\"data\":{\"Latitude\":{\"__ndarray__\":\"ZPzWL1sLU0FpaLheTuxSQYqKYu+R/lJB\",\"dtype\":\"float64\",\"order\":\"little\",\"shape\":[3]},\"Longitude\":{\"__ndarray__\":\"rslu5ldfX8HIC5n1TlVfwZcJWtXnXl/B\",\"dtype\":\"float64\",\"order\":\"little\",\"shape\":[3]},\"Name\":[\"Botanical Garden\",\"John F. Kennedy International Airport\",\"LaGuardia Airport\"],\"color\":[\"Botanical Garden\",\"John F. Kennedy International Airport\",\"LaGuardia Airport\"]},\"selected\":{\"id\":\"2161\"},\"selection_policy\":{\"id\":\"2173\"}},\"id\":\"2160\",\"type\":\"ColumnDataSource\"},{\"attributes\":{\"source\":{\"id\":\"2160\"}},\"id\":\"2169\",\"type\":\"CDSView\"},{\"attributes\":{\"coordinates\":null,\"group\":null,\"text_color\":\"black\",\"text_font_size\":\"12pt\"},\"id\":\"2097\",\"type\":\"Title\"},{\"attributes\":{\"below\":[{\"id\":\"2105\"}],\"center\":[{\"id\":\"2108\"},{\"id\":\"2112\"}],\"frame_height\":500,\"frame_width\":700,\"height\":null,\"left\":[{\"id\":\"2109\"}],\"margin\":[5,5,5,5],\"match_aspect\":true,\"min_border_bottom\":10,\"min_border_left\":10,\"min_border_right\":10,\"min_border_top\":10,\"renderers\":[{\"id\":\"2157\"},{\"id\":\"2168\"}],\"right\":[{\"id\":\"2176\"}],\"sizing_mode\":\"fixed\",\"title\":{\"id\":\"2097\"},\"toolbar\":{\"id\":\"2119\"},\"width\":null,\"x_range\":{\"id\":\"2089\"},\"x_scale\":{\"id\":\"2101\"},\"y_range\":{\"id\":\"2090\"},\"y_scale\":{\"id\":\"2103\"}},\"id\":\"2096\",\"subtype\":\"Figure\",\"type\":\"Plot\"},{\"attributes\":{\"code\":\"\\n        var projections = Bokeh.require(\\\"core/util/projections\\\");\\n        var x = special_vars.data_x\\n        var y = special_vars.data_y\\n        if (projections.wgs84_mercator.invert == null) {\\n          var coords = projections.wgs84_mercator.inverse([x, y])\\n        } else {\\n          var coords = projections.wgs84_mercator.invert(x, y)\\n        }\\n        return \\\"\\\" + (coords[0]).toFixed(4)\\n    \"},\"id\":\"2178\",\"type\":\"CustomJSHover\"},{\"attributes\":{\"margin\":[5,5,5,5],\"name\":\"HSpacer02597\",\"sizing_mode\":\"stretch_width\"},\"id\":\"2084\",\"type\":\"Spacer\"},{\"attributes\":{},\"id\":\"2117\",\"type\":\"ResetTool\"},{\"attributes\":{\"dimension\":\"lon\"},\"id\":\"2129\",\"type\":\"MercatorTickFormatter\"},{\"attributes\":{},\"id\":\"2161\",\"type\":\"Selection\"},{\"attributes\":{\"margin\":[5,5,5,5],\"name\":\"HSpacer02598\",\"sizing_mode\":\"stretch_width\"},\"id\":\"2186\",\"type\":\"Spacer\"},{\"attributes\":{\"dimension\":\"lon\"},\"id\":\"2128\",\"type\":\"MercatorTicker\"},{\"attributes\":{\"bottom_units\":\"screen\",\"coordinates\":null,\"fill_alpha\":0.5,\"fill_color\":\"lightgrey\",\"group\":null,\"left_units\":\"screen\",\"level\":\"overlay\",\"line_alpha\":1.0,\"line_color\":\"black\",\"line_dash\":[4,4],\"line_width\":2,\"right_units\":\"screen\",\"syncable\":false,\"top_units\":\"screen\"},\"id\":\"2118\",\"type\":\"BoxAnnotation\"},{\"attributes\":{\"fill_alpha\":{\"value\":0.8},\"fill_color\":{\"field\":\"color\",\"transform\":{\"id\":\"2159\"}},\"hatch_alpha\":{\"value\":0.8},\"hatch_color\":{\"field\":\"color\",\"transform\":{\"id\":\"2159\"}},\"line_alpha\":{\"value\":0.8},\"line_color\":{\"field\":\"color\",\"transform\":{\"id\":\"2159\"}},\"size\":{\"value\":5.477225575051661},\"x\":{\"field\":\"Longitude\"},\"y\":{\"field\":\"Latitude\"}},\"id\":\"2166\",\"type\":\"Scatter\"},{\"attributes\":{\"dimension\":\"lat\"},\"id\":\"2130\",\"type\":\"MercatorTicker\"},{\"attributes\":{\"label\":{\"field\":\"color\"},\"renderers\":[{\"id\":\"2168\"}]},\"id\":\"2177\",\"type\":\"LegendItem\"},{\"attributes\":{\"click_policy\":\"mute\",\"coordinates\":null,\"group\":null,\"items\":[{\"id\":\"2177\"}],\"location\":[0,0]},\"id\":\"2176\",\"type\":\"Legend\"},{\"attributes\":{\"axis_label\":\"x\",\"coordinates\":null,\"formatter\":{\"id\":\"2129\"},\"group\":null,\"major_label_policy\":{\"id\":\"2134\"},\"ticker\":{\"id\":\"2128\"}},\"id\":\"2105\",\"type\":\"LinearAxis\"},{\"attributes\":{\"axis\":{\"id\":\"2105\"},\"coordinates\":null,\"grid_line_color\":null,\"group\":null,\"ticker\":null},\"id\":\"2108\",\"type\":\"Grid\"},{\"attributes\":{\"coordinates\":null,\"data_source\":{\"id\":\"2160\"},\"glyph\":{\"id\":\"2163\"},\"group\":null,\"hover_glyph\":{\"id\":\"2166\"},\"muted_glyph\":{\"id\":\"2167\"},\"nonselection_glyph\":{\"id\":\"2164\"},\"selection_glyph\":{\"id\":\"2165\"},\"view\":{\"id\":\"2169\"}},\"id\":\"2168\",\"type\":\"GlyphRenderer\"}],\"root_ids\":[\"2083\"]},\"title\":\"Bokeh Application\",\"version\":\"2.4.3\"}};\n",
       "    var render_items = [{\"docid\":\"5e70875e-d1b0-4f0a-babf-d9f49da291ef\",\"root_ids\":[\"2083\"],\"roots\":{\"2083\":\"4f4b7857-bd28-40be-9330-f691a24972f6\"}}];\n",
       "    root.Bokeh.embed.embed_items_notebook(docs_json, render_items);\n",
       "  }\n",
       "  if (root.Bokeh !== undefined && root.Bokeh.Panel !== undefined) {\n",
       "    embed_document(root);\n",
       "  } else {\n",
       "    var attempts = 0;\n",
       "    var timer = setInterval(function(root) {\n",
       "      if (root.Bokeh !== undefined && root.Bokeh.Panel !== undefined) {\n",
       "        clearInterval(timer);\n",
       "        embed_document(root);\n",
       "      } else if (document.readyState == \"complete\") {\n",
       "        attempts++;\n",
       "        if (attempts > 200) {\n",
       "          clearInterval(timer);\n",
       "          console.log(\"Bokeh: ERROR: Unable to run BokehJS code because BokehJS library is missing\");\n",
       "        }\n",
       "      }\n",
       "    }, 25, root)\n",
       "  }\n",
       "})(window);</script>"
      ],
      "text/plain": [
       ":Overlay\n",
       "   .Tiles.I  :Tiles   [x,y]\n",
       "   .Points.I :Points   [Longitude,Latitude]   (Name)"
      ]
     },
     "execution_count": 19,
     "metadata": {
      "application/vnd.holoviews_exec.v0+json": {
       "id": "2083"
      }
     },
     "output_type": "execute_result"
    }
   ],
   "source": [
    "# Slice the name of two places from the places_of_interest DataFrame\n",
    "# Use the Pandas isin function to reference the specific name of a location\n",
    "two_places =  places_of_interest[\n",
    "    ( places_of_interest['Name'].str.contains(\"Airport\"))\n",
    "\n",
    "    |\n",
    "\n",
    "    (places_of_interest[\"Name\"].isin([\"Botanical Garden\"]))\n",
    "\n",
    "\n",
    "\n",
    "]\n",
    "\n",
    "# Create the Plot for just the two places\n",
    "two_places_route = two_places.hvplot.points(\n",
    "     'Longitude',\n",
    "    'Latitude',\n",
    "    geo=True,\n",
    "    color= 'Name',\n",
    "    alpha=0.8,\n",
    "    tiles=\"OSM\",\n",
    "    frame_width=700,\n",
    "    frame_height=500\n",
    "    )\n",
    "\n",
    "# Show the plot\n",
    "two_places_route"
   ]
  }
 ],
 "metadata": {
  "kernelspec": {
   "display_name": "Python 3.7.13 ('dev')",
   "language": "python",
   "name": "python3"
  },
  "language_info": {
   "codemirror_mode": {
    "name": "ipython",
    "version": 3
   },
   "file_extension": ".py",
   "mimetype": "text/x-python",
   "name": "python",
   "nbconvert_exporter": "python",
   "pygments_lexer": "ipython3",
   "version": "3.7.13"
  },
  "vscode": {
   "interpreter": {
    "hash": "3f60a6b36217423191b1fff06a0c001f0f27374044b5c2f04bad8ea37cd19fad"
   }
  }
 },
 "nbformat": 4,
 "nbformat_minor": 4
}
